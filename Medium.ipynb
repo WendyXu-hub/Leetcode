{
 "cells": [
  {
   "cell_type": "markdown",
   "metadata": {},
   "source": [
    "## Level: Medium"
   ]
  },
  {
   "cell_type": "markdown",
   "metadata": {},
   "source": [
    "#### 题目来源：力扣（LeetCode） 链接：https://leetcode-cn.com/problemset/lcof/?difficulty=%E4%B8%AD%E7%AD%89"
   ]
  },
  {
   "cell_type": "markdown",
   "metadata": {},
   "source": [
    "## Part I：数组"
   ]
  },
  {
   "cell_type": "markdown",
   "metadata": {},
   "source": [
    "### 1. 机器人的运动范围\n",
    "\n",
    "#### 地上有一个m行n列的方格，从坐标 [0,0] 到坐标 [m-1,n-1] 。一个机器人从坐标 [0, 0] 的格子开始移动。\n",
    "#### 它每次可以向左、右、上、下移动一格（不能移动到方格外），也不能进入行坐标和列坐标的数位之和大于k的格子。\n",
    "#### 例如，当k为18时，机器人能够进入方格 [35, 37] ，因为3+5+3+7=18。但它不能进入方格 [35, 38]，因为3+5+3+8=19。\n",
    "#### 请问该机器人能够到达多少个格子？"
   ]
  },
  {
   "cell_type": "markdown",
   "metadata": {},
   "source": [
    "#### 思路：BFS in matrix. 利用Queue实现BFS\n",
    "\n",
    "#### 求`x`数为和：`x % 10`, `x // 10`, 循环求得数位和\n",
    "\n",
    "#### 隐藏的优化：搜索方向可以从上、下、左、右缩减为向右和向下"
   ]
  },
  {
   "cell_type": "code",
   "execution_count": 3,
   "metadata": {},
   "outputs": [],
   "source": [
    "def movingCount(m, n, k):\n",
    "    \n",
    "    directions = [(0,1), (1,0)]\n",
    "    \n",
    "    queue = [(0,0)]\n",
    "    visited = set()\n",
    "    \n",
    "    while queue:\n",
    "        current = queue.pop()\n",
    "        visited.add(current)\n",
    "        for _x, _y in directions:\n",
    "            x_new = current[0] + _x\n",
    "            y_new = current[1] + _y\n",
    "            if isValid(m, n, k, x_new, y_new, visited):\n",
    "                queue.append((x_new, y_new))\n",
    "    \n",
    "    return len(visited)\n",
    "\n",
    "\n",
    "def num_sum(num):\n",
    "    \n",
    "    res = 0\n",
    "    \n",
    "    while num:\n",
    "        res += num % 10\n",
    "        num = num // 10\n",
    "    \n",
    "    return res \n",
    "\n",
    "\n",
    "def isValid(m, n, k, x, y, visited):\n",
    "    \n",
    "    if 0 <= x < m and 0 <= y < n and num_sum(x) + num_sum(y) <= k and (x,y) not in visited:\n",
    "        return True \n",
    "    return False"
   ]
  },
  {
   "cell_type": "code",
   "execution_count": 6,
   "metadata": {},
   "outputs": [
    {
     "data": {
      "text/plain": [
       "3"
      ]
     },
     "execution_count": 6,
     "metadata": {},
     "output_type": "execute_result"
    }
   ],
   "source": [
    "m = 2 \n",
    "n = 3\n",
    "k = 1\n",
    "movingCount(m, n, k)"
   ]
  },
  {
   "cell_type": "markdown",
   "metadata": {},
   "source": [
    "### 2. 股票的最大利润\n",
    "\n",
    "#### 假设把某股票的价格按照时间先后顺序存储在数组中，请问买卖该股票一次可能获得的最大利润是多少？"
   ]
  },
  {
   "cell_type": "markdown",
   "metadata": {},
   "source": [
    "#### 思路：DP\n",
    "\n",
    "#### `dp[i]` 以`prices[i]`结尾的子数组得最大利润，即前`i`日的最大利润\n",
    "\n",
    "#### 初始状态：$dp[0] = 0$\n",
    "#### 状态转移：$dp[i] = max(dp[i-1], prices[i] - min(prices[0:i]))$\n",
    "\n",
    "- 在遍历`prices`数组时，可以借助一个变量`cost`来更新最低价格\n",
    "\n",
    "#### 返回值：$dp[n-1]$"
   ]
  },
  {
   "cell_type": "code",
   "execution_count": 7,
   "metadata": {},
   "outputs": [],
   "source": [
    "def maxProfit(prices):\n",
    "    \n",
    "    if not prices:\n",
    "        return 0 \n",
    "    \n",
    "    dp = [0] * len(prices)\n",
    "    cost = prices[0]\n",
    "    \n",
    "    for i in range(1, len(prices)):\n",
    "        \n",
    "        dp[i] = max(dp[i-1], prices[i] - cost)\n",
    "        \n",
    "        cost = min(cost, prices[i])\n",
    "    \n",
    "    return dp[-1]\n"
   ]
  },
  {
   "cell_type": "code",
   "execution_count": 8,
   "metadata": {},
   "outputs": [
    {
     "data": {
      "text/plain": [
       "5"
      ]
     },
     "execution_count": 8,
     "metadata": {},
     "output_type": "execute_result"
    }
   ],
   "source": [
    "prices = [7, 1, 5, 3, 6]\n",
    "maxProfit(prices)"
   ]
  },
  {
   "cell_type": "code",
   "execution_count": 18,
   "metadata": {},
   "outputs": [],
   "source": [
    "### 空间优化\n",
    "\n",
    "import math\n",
    "\n",
    "def maxProfit(prices):\n",
    "    \n",
    "    dp = 0\n",
    "    cost = math.inf\n",
    "    \n",
    "    for price in prices:\n",
    "        \n",
    "        cost = min(cost, price)\n",
    "        \n",
    "        dp = max(dp, price - cost)\n",
    "            \n",
    "    return dp"
   ]
  },
  {
   "cell_type": "code",
   "execution_count": 19,
   "metadata": {},
   "outputs": [
    {
     "data": {
      "text/plain": [
       "5"
      ]
     },
     "execution_count": 19,
     "metadata": {},
     "output_type": "execute_result"
    }
   ],
   "source": [
    "prices = [7, 1, 5, 3, 6]\n",
    "maxProfit(prices)"
   ]
  },
  {
   "cell_type": "markdown",
   "metadata": {},
   "source": [
    "### 3. 剪绳子\n",
    "\n",
    "#### 给你一根长度为 n 的绳子，请把绳子剪成整数长度的 m 段（m、n都是整数，n>1并且m>1），\n",
    "#### 每段绳子的长度记为 $k[0],k[1]...k[m-1]$ 。请问 $k[0]*k[1]*...*k[m-1]$ 可能的最大乘积是多少？\n",
    "#### 例如，当绳子的长度是8时，我们把它剪成长度分别为2、3、3的三段，此时得到的最大乘积是18。\n"
   ]
  },
  {
   "cell_type": "markdown",
   "metadata": {},
   "source": [
    "#### 思路：贪心\n",
    "\n",
    "| 绳子切分方案        |    乘积     |       结论        |\n",
    "|--------------------|-------------|-------------------|\n",
    "|           1        |     1       |      NA           |\n",
    "|     2 = 1 + 1      |  1 * 1 = 1  |    2不应该切分    |\n",
    "|     3 = 1 + 2      |  1 * 2 = 2  |    3不应该切分    |\n",
    "|  4 = 2 + 2 = 1 + 3 |  4 > 3      |    4切成2 + 2     |\n",
    "|  5 = 2 + 3 = 1 + 4 |  6 > 4      |    5切成2 + 3     |\n",
    "|  6 = 3 + 3 = 2 + 4 |  9 > 8      |    6切成3 + 3     |\n",
    "|        ···         |   ···       |       ···        |"
   ]
  },
  {
   "cell_type": "markdown",
   "metadata": {},
   "source": [
    "#### 从上表可以看出： 3比2优\n",
    "\n",
    "- 以长度3为单位切割\n",
    "\n",
    "- 最后若剩下1， 则与前一个3组合成 2 + 2 \n",
    "\n",
    "- 最后若剩下2， 则不变"
   ]
  },
  {
   "cell_type": "code",
   "execution_count": 20,
   "metadata": {},
   "outputs": [],
   "source": [
    "def cuttingRope(n):\n",
    "    \n",
    "    if n == 2:\n",
    "        return 1 \n",
    "    \n",
    "    if n == 3:\n",
    "        return 2 \n",
    "    \n",
    "    a = n % 3 \n",
    "    b = n // 3\n",
    "    \n",
    "    if a == 0:\n",
    "        return pow(3, b)\n",
    "    \n",
    "    if a == 1:\n",
    "        return pow(3, b - 1) * 4\n",
    "    \n",
    "    if a == 2:\n",
    "        return pow(3, b) * 2"
   ]
  },
  {
   "cell_type": "code",
   "execution_count": 21,
   "metadata": {},
   "outputs": [
    {
     "data": {
      "text/plain": [
       "36"
      ]
     },
     "execution_count": 21,
     "metadata": {},
     "output_type": "execute_result"
    }
   ],
   "source": [
    "n = 10\n",
    "cuttingRope(n)"
   ]
  },
  {
   "cell_type": "markdown",
   "metadata": {},
   "source": [
    "### 4. 把数组排成最小的数\n",
    "\n",
    "#### 输入一个正整数数组，把数组里所有数字拼接起来排成一个数，打印能拼接出的所有数字中最小的一个。"
   ]
  },
  {
   "cell_type": "markdown",
   "metadata": {},
   "source": [
    "#### 思路：利用快速排序算法自定义排序\n",
    "\n",
    "#### 将`nums`中的数字按照如下规则从小到大排序：\n",
    "\n",
    "- e.g `3`和`34`. 因为`334 < 343`, 所以`3` 排在`34`前面\n",
    "\n",
    "- 按这样的规则从小到大排列之后得到的数字为拼接数字中最小的。\n",
    "\n",
    "#### 如何实现这样的排序：\n",
    "\n",
    "- 先将`nums`中的数字转成str，从而可以直接利用str的拼接和大小比较\n",
    "\n",
    "- 利用新的规则来自定义快速排序"
   ]
  },
  {
   "cell_type": "code",
   "execution_count": 22,
   "metadata": {},
   "outputs": [],
   "source": [
    "def minNumber(nums):\n",
    "    \n",
    "    numbers = [str(num) for num in nums]\n",
    "    \n",
    "    results = quickSort(numbers)\n",
    "    \n",
    "    return ''.join(results)\n",
    "\n",
    "\n",
    "\n",
    "def quickSort(numbers):\n",
    "    \n",
    "    d = [[], [], []]\n",
    "    \n",
    "    pivot = numbers[len(numbers)//2]\n",
    "    \n",
    "    for num in numbers:\n",
    "        if num + pivot < pivot + num:\n",
    "            d[0].append(num)\n",
    "        elif num + pivot > pivot + num:\n",
    "            d[2].append(num)\n",
    "        else:\n",
    "            d[1].append(num)\n",
    "    \n",
    "    if len(d[0]) > 1:\n",
    "        d[0] = quickSort(d[0])\n",
    "        \n",
    "    if len(d[2]) > 1:\n",
    "        d[2] = quickSort(d[2])\n",
    "    \n",
    "    return d[0] + d[1] + d[2]"
   ]
  },
  {
   "cell_type": "code",
   "execution_count": 23,
   "metadata": {},
   "outputs": [
    {
     "data": {
      "text/plain": [
       "'3033459'"
      ]
     },
     "execution_count": 23,
     "metadata": {},
     "output_type": "execute_result"
    }
   ],
   "source": [
    "nums = [3,30,34,5,9]\n",
    "minNumber(nums)"
   ]
  },
  {
   "cell_type": "markdown",
   "metadata": {},
   "source": [
    "### 5. 丑数\n",
    "\n",
    "#### 我们把只包含因子 2、3 和 5 的数称作丑数（Ugly Number）。求按从小到大的顺序的第 n 个丑数。\n",
    "\n",
    "说明：1是丑数"
   ]
  },
  {
   "cell_type": "markdown",
   "metadata": {},
   "source": [
    "#### 思路：DP\n",
    "\n",
    "#### 丑数 = 某较小丑数 $\\times$ 某因子( 2, 3, 5)\n",
    "\n",
    "$$\\left\\{\\begin{aligned}\n",
    "x_a \\times 2, a \\in [1, n] \\\\\n",
    "x_b \\times 3, b \\in [1, n] \\\\\n",
    "x_c \\times 5, c \\in [1, n]\n",
    "\\end{aligned}\n",
    "\\right.$$\n",
    "\n",
    "$$x_{n+1} = min(x_a \\times 2, x_b \\times 3, x_c \\times 5)$$\n",
    "\n",
    "$$\\left\\{\\begin{aligned}\n",
    "x_a \\times 2 > x_n \\ge x_{a-1} \\times 2 \\\\\n",
    "x_b \\times 3 > x_n \\ge x_{b-1} \\times 3  \\\\\n",
    "x_c \\times 5 > x_n \\ge x_{c-1} \\times 5 \n",
    "\\end{aligned}\n",
    "\\right.$$\n",
    "\n",
    "#### 每轮update$x_i$后要update$a, b, c$的位置"
   ]
  },
  {
   "cell_type": "code",
   "execution_count": 24,
   "metadata": {},
   "outputs": [],
   "source": [
    "def nthUglyNumber(n):\n",
    "    \n",
    "    dp = [1] * n\n",
    "    \n",
    "    a = b = c = 0\n",
    "    \n",
    "    for i in range(1, n):\n",
    "        \n",
    "        na = 2*dp[a]\n",
    "        nb = 3*dp[b]\n",
    "        nc = 5*dp[c]\n",
    "        \n",
    "        dp[i] = min(na, nb, nc)\n",
    "        \n",
    "        if dp[i] == na:\n",
    "            a += 1\n",
    "        if dp[i] == nb:\n",
    "            b += 1\n",
    "        if dp[i] == nc:\n",
    "            c += 1 \n",
    "    \n",
    "    return dp[-1]"
   ]
  },
  {
   "cell_type": "code",
   "execution_count": 25,
   "metadata": {},
   "outputs": [
    {
     "data": {
      "text/plain": [
       "12"
      ]
     },
     "execution_count": 25,
     "metadata": {},
     "output_type": "execute_result"
    }
   ],
   "source": [
    "n = 10\n",
    "nthUglyNumber(n)"
   ]
  },
  {
   "cell_type": "markdown",
   "metadata": {},
   "source": [
    "### 6. 求 $1 + 2 + ... + n$\n",
    "\n",
    "#### 要求不能使用乘除法、for、while、if、else、switch、case等关键字及条件判断语句（A?B:C）"
   ]
  },
  {
   "cell_type": "code",
   "execution_count": null,
   "metadata": {},
   "outputs": [],
   "source": []
  },
  {
   "cell_type": "markdown",
   "metadata": {},
   "source": [
    "### 7. 数字序列中某一位的数字\n",
    "\n",
    "#### 数字以0123456789101112131415…的格式序列化到一个字符序列中。\n",
    "#### 在这个序列中，第5位（从下标0开始计数）是5，第13位是1，第19位是4，等等。\n",
    "\n",
    "#### 请写一个函数，求任意第n位对应的数字\n"
   ]
  },
  {
   "cell_type": "code",
   "execution_count": null,
   "metadata": {},
   "outputs": [],
   "source": []
  },
  {
   "cell_type": "markdown",
   "metadata": {},
   "source": [
    "### 8. 1 ~ n整数中1出现的次数\n",
    "\n",
    "#### 输入一个整数 n ，求1～n这n个整数的十进制表示中1出现的次数。\n",
    "\n",
    "#### 例如，输入12，1～12这些整数中包含1 的数字有1、10、11和12，1一共出现了5次。"
   ]
  },
  {
   "cell_type": "code",
   "execution_count": null,
   "metadata": {},
   "outputs": [],
   "source": []
  },
  {
   "cell_type": "markdown",
   "metadata": {},
   "source": [
    "### 9. 礼物的最大价值\n",
    "\n",
    "#### 在一个 m*n 的棋盘的每一格都放有一个礼物，每个礼物都有一定的价值（价值大于 0）。\n",
    "#### 你可以从棋盘的左上角开始拿格子里的礼物，并每次向右或者向下移动一格、直到到达棋盘的右下角。\n",
    "#### 给定一个棋盘及其上面的礼物的价值，请计算你最多能拿到多少价值的礼物？\n"
   ]
  },
  {
   "cell_type": "code",
   "execution_count": null,
   "metadata": {},
   "outputs": [],
   "source": []
  },
  {
   "cell_type": "markdown",
   "metadata": {},
   "source": [
    "### 10. 数组中数字出现的次数\n",
    "\n",
    "#### 一个整型数组 `nums` 里除两个数字之外，其他数字都出现了两次。\n",
    "#### 请写程序找出这两个只出现一次的数字。要求时间复杂度是O(n)，空间复杂度是O(1)。"
   ]
  },
  {
   "cell_type": "code",
   "execution_count": null,
   "metadata": {},
   "outputs": [],
   "source": []
  },
  {
   "cell_type": "markdown",
   "metadata": {},
   "source": [
    "### 11. 数组中数字出现的次数 II\n",
    "\n",
    "#### 在一个数组 nums 中除一个数字只出现一次之外，其他数字都出现了三次。\n",
    "#### 请找出那个只出现一次的数字。"
   ]
  },
  {
   "cell_type": "code",
   "execution_count": null,
   "metadata": {},
   "outputs": [],
   "source": []
  },
  {
   "cell_type": "markdown",
   "metadata": {},
   "source": [
    "### 12. 矩阵中的路径\n",
    "\n",
    "#### 请设计一个函数，用来判断在一个矩阵中是否存在一条包含某字符串所有字符的路径。\n",
    "#### 路径可以从矩阵中的任意一格开始，每一步可以在矩阵中向左、右、上、下移动一格。\n",
    "#### 如果一条路径经过了矩阵的某一格，那么该路径不能再次进入该格子。\n",
    "\n",
    "例如，在下面的3×4的矩阵中包含一条字符串“bfce”的路径。\n",
    "\n",
    "[[\"a\",\"b\",\"c\",\"e\"],\n",
    "\n",
    " [\"s\",\"f\",\"c\",\"s\"],\n",
    "\n",
    "[\"a\",\"d\",\"e\",\"e\"]]\n",
    "\n",
    "\n",
    "但矩阵中不包含字符串“abfb”的路径，因为字符串的第一个字符b占据了矩阵中的第一行第二个格子之后，路径不能再次进入这个格子。"
   ]
  },
  {
   "cell_type": "code",
   "execution_count": null,
   "metadata": {},
   "outputs": [],
   "source": []
  },
  {
   "cell_type": "markdown",
   "metadata": {},
   "source": [
    "### 13. 数值的整数次方\n",
    "\n",
    "#### 实现函数`double Power(double base, int exponent)`，求`base`的`exponent`次方。\n",
    "#### 不得使用库函数，同时不需要考虑大数问题。"
   ]
  },
  {
   "cell_type": "code",
   "execution_count": null,
   "metadata": {},
   "outputs": [],
   "source": []
  },
  {
   "cell_type": "markdown",
   "metadata": {},
   "source": [
    "## Part II：字符串"
   ]
  },
  {
   "cell_type": "markdown",
   "metadata": {},
   "source": [
    "### 1. 字符串的排列\n",
    "\n",
    "#### 输入一个字符串，打印出该字符串中字符的所有排列。"
   ]
  },
  {
   "cell_type": "code",
   "execution_count": null,
   "metadata": {},
   "outputs": [],
   "source": []
  },
  {
   "cell_type": "markdown",
   "metadata": {},
   "source": [
    "### 2. 最长不含重复字符的子字符串\n",
    "\n",
    "#### 请从字符串中找出一个最长的不包含重复字符的子字符串，计算该最长子字符串的长度。"
   ]
  },
  {
   "cell_type": "code",
   "execution_count": null,
   "metadata": {},
   "outputs": [],
   "source": []
  },
  {
   "cell_type": "markdown",
   "metadata": {},
   "source": [
    "### 3. 把数字翻译成字符串\n",
    "\n",
    "#### 给定一个数字，我们按照如下规则把它翻译为字符串：\n",
    "#### 0 翻译成 “a” ，1 翻译成 “b”，……，11 翻译成 “l”，……，25 翻译成 “z”。\n",
    "#### 一个数字可能有多个翻译。请编程实现一个函数，用来计算一个数字有多少种不同的翻译方法。"
   ]
  },
  {
   "cell_type": "code",
   "execution_count": null,
   "metadata": {},
   "outputs": [],
   "source": []
  },
  {
   "cell_type": "markdown",
   "metadata": {},
   "source": [
    "### 4. 把字符串转换成整数\n",
    "\n",
    "#### 写一个函数 StrToInt，实现把字符串转换成整数这个功能。不能使用 atoi 或者其他类似的库函数。\n",
    "\n",
    "首先，该函数会根据需要丢弃无用的开头空格字符，直到寻找到第一个非空格的字符为止。\n",
    "\n",
    "当我们寻找到的第一个非空字符为正或者负号时，则将该符号与之后面尽可能多的连续数字组合起来，作为该整数的正负号；假如第一个非空字符是数字，则直接将其与之后连续的数字字符组合起来，形成整数。\n",
    "\n",
    "该字符串除了有效的整数部分之后也可能会存在多余的字符，这些字符可以被忽略，它们对于函数不应该造成影响。\n",
    "\n",
    "注意：假如该字符串中的第一个非空格字符不是一个有效整数字符、字符串为空或字符串仅包含空白字符时，则你的函数不需要进行转换。\n",
    "\n",
    "在任何情况下，若函数不能进行有效的转换时，请返回 0。\n",
    "\n",
    "说明：\n",
    "\n",
    "假设我们的环境只能存储 32 位大小的有符号整数，那么其数值范围为 [−231,  231 − 1]。如果数值超过这个范围，请返回  INT_MAX (231 − 1) 或 INT_MIN (−231) 。\n"
   ]
  },
  {
   "cell_type": "code",
   "execution_count": null,
   "metadata": {},
   "outputs": [],
   "source": []
  },
  {
   "cell_type": "markdown",
   "metadata": {},
   "source": [
    "### 5. 表示数值的字符串\n",
    "\n",
    "#### 请实现一个函数用来判断字符串是否表示数值（包括整数和小数）。\n",
    "#### 例如，字符串\"+100\"、\"5e2\"、\"-123\"、\"3.1416\"、\"0123\"都表示数值，\n",
    "#### 但\"12e\"、\"1a3.14\"、\"1.2.3\"、\"+-5\"、\"-1E-16\"及\"12e+5.4\"都不是。\n"
   ]
  },
  {
   "cell_type": "code",
   "execution_count": null,
   "metadata": {},
   "outputs": [],
   "source": []
  },
  {
   "cell_type": "markdown",
   "metadata": {},
   "source": [
    "## Part III: 栈和队列"
   ]
  },
  {
   "cell_type": "markdown",
   "metadata": {},
   "source": [
    "### 1. 队列的最大值\n",
    "\n",
    "#### 请定义一个队列并实现函数 `max_value` 得到队列里的最大值。\n",
    "#### 要求函数`max_value`、`push_back` 和 `pop_front` 的均摊时间复杂度都是O(1)。\n",
    "\n",
    "#### 若队列为空，`pop_front `和 `max_value` 需要返回 -1\n"
   ]
  },
  {
   "cell_type": "code",
   "execution_count": null,
   "metadata": {},
   "outputs": [],
   "source": []
  },
  {
   "cell_type": "markdown",
   "metadata": {},
   "source": [
    "### 2. 栈的压入、弹出序列\n",
    "\n",
    "#### 输入两个整数序列，第一个序列表示栈的压入顺序，请判断第二个序列是否为该栈的弹出顺序。\n",
    "#### 假设压入栈的所有数字均不相等。\n",
    "#### 例如，序列 {1,2,3,4,5} 是某栈的压栈序列，序列 {4,5,3,2,1} 是该压栈序列对应的一个弹出序列，\n",
    "#### 但 {4,3,5,1,2} 就不可能是该压栈序列的弹出序列。\n"
   ]
  },
  {
   "cell_type": "code",
   "execution_count": null,
   "metadata": {},
   "outputs": [],
   "source": []
  },
  {
   "cell_type": "markdown",
   "metadata": {},
   "source": [
    "## Part V: 树"
   ]
  },
  {
   "cell_type": "code",
   "execution_count": 1,
   "metadata": {},
   "outputs": [],
   "source": [
    "# Definition for a binary tree node.\n",
    "# class TreeNode:\n",
    "#     def __init__(self, x):\n",
    "#         self.val = x\n",
    "#         self.left = None\n",
    "#         self.right = None"
   ]
  },
  {
   "cell_type": "markdown",
   "metadata": {},
   "source": [
    "### 1. 二叉树中和为某一值的路径\n",
    "\n",
    "#### 输入一棵二叉树和一个整数，打印出二叉树中节点值的和为输入整数的所有路径。\n",
    "#### 从树的根节点开始往下一直到叶节点所经过的节点形成一条路径。"
   ]
  },
  {
   "cell_type": "code",
   "execution_count": null,
   "metadata": {},
   "outputs": [],
   "source": []
  },
  {
   "cell_type": "markdown",
   "metadata": {},
   "source": [
    "### 2. 重建二叉树\n",
    "\n",
    "#### 输入某二叉树的前序遍历和中序遍历的结果，请重建该二叉树。\n",
    "#### 假设输入的前序遍历和中序遍历的结果中都不含重复的数字。"
   ]
  },
  {
   "cell_type": "code",
   "execution_count": null,
   "metadata": {},
   "outputs": [],
   "source": []
  },
  {
   "cell_type": "markdown",
   "metadata": {},
   "source": [
    "### 3. 二叉搜索树与双向链表\n",
    "\n",
    "#### 输入一棵二叉搜索树，将该二叉搜索树转换成一个排序的循环双向链表。\n",
    "#### 要求不能创建任何新的节点，只能调整树中节点指针的指向。"
   ]
  },
  {
   "cell_type": "code",
   "execution_count": null,
   "metadata": {},
   "outputs": [],
   "source": []
  },
  {
   "cell_type": "markdown",
   "metadata": {},
   "source": [
    "### 4. 树的子结构\n",
    "\n",
    "#### 输入两棵二叉树A和B，判断B是不是A的子结构。(约定空树不是任意一个树的子结构)\n",
    "\n",
    "#### B是A的子结构， 即 A中有出现和B相同的结构和节点值。"
   ]
  },
  {
   "cell_type": "code",
   "execution_count": null,
   "metadata": {},
   "outputs": [],
   "source": []
  },
  {
   "cell_type": "markdown",
   "metadata": {},
   "source": [
    "### 5. 二叉搜索树的后序遍历序列\n",
    "\n",
    "#### 输入一个整数数组，判断该数组是不是某二叉搜索树的后序遍历结果。\n",
    "#### 如果是则返回 true，否则返回 false。假设输入的数组的任意两个数字都互不相同。"
   ]
  },
  {
   "cell_type": "code",
   "execution_count": null,
   "metadata": {},
   "outputs": [],
   "source": []
  },
  {
   "cell_type": "markdown",
   "metadata": {},
   "source": [
    "### 6. 从上到下打印二叉树 II\n",
    "\n",
    "#### 从上到下打印出二叉树的每个节点，同一层的节点按照从左到右的顺序打印。"
   ]
  },
  {
   "cell_type": "code",
   "execution_count": null,
   "metadata": {},
   "outputs": [],
   "source": []
  },
  {
   "cell_type": "markdown",
   "metadata": {},
   "source": [
    "### 7. 从上到下打印二叉树 III\n",
    "\n",
    "#### 请实现一个函数按照之字形顺序打印二叉树，\n",
    "#### 即第一行按照从左到右的顺序打印，第二层按照从右到左的顺序打印，第三行再按照从左到右的顺序打印，\n",
    "#### 其他行以此类推。"
   ]
  },
  {
   "cell_type": "code",
   "execution_count": null,
   "metadata": {},
   "outputs": [],
   "source": []
  },
  {
   "cell_type": "markdown",
   "metadata": {},
   "source": [
    "## Part VI: 链表"
   ]
  },
  {
   "cell_type": "markdown",
   "metadata": {},
   "source": [
    "### 1. 复杂链表的复制\n",
    "\n",
    "#### 请实现 `copyRandomList` 函数，复制一个复杂链表。\n",
    "#### 在复杂链表中，每个节点除了有一个 `next` 指针指向下一个节点，还有一个 `random` 指针指向链表中的任意节点或者` null`。\n"
   ]
  },
  {
   "cell_type": "code",
   "execution_count": 4,
   "metadata": {},
   "outputs": [],
   "source": [
    "# Definition for a Node.\n",
    "# class Node:\n",
    "#     def __init__(self, x: int, next: 'Node' = None, random: 'Node' = None):\n",
    "#         self.val = int(x)\n",
    "#         self.next = next\n",
    "#         self.random = random"
   ]
  },
  {
   "cell_type": "code",
   "execution_count": null,
   "metadata": {},
   "outputs": [],
   "source": []
  }
 ],
 "metadata": {
  "kernelspec": {
   "display_name": "Python 3",
   "language": "python",
   "name": "python3"
  },
  "language_info": {
   "codemirror_mode": {
    "name": "ipython",
    "version": 3
   },
   "file_extension": ".py",
   "mimetype": "text/x-python",
   "name": "python",
   "nbconvert_exporter": "python",
   "pygments_lexer": "ipython3",
   "version": "3.7.3"
  }
 },
 "nbformat": 4,
 "nbformat_minor": 2
}
