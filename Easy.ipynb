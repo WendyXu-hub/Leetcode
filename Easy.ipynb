{
 "cells": [
  {
   "cell_type": "markdown",
   "metadata": {},
   "source": [
    "## Level: Easy"
   ]
  },
  {
   "cell_type": "markdown",
   "metadata": {},
   "source": [
    "#### 题目来源：力扣（LeetCode） 链接：https://leetcode-cn.com/problemset/lcof/?difficulty=%E7%AE%80%E5%8D%95"
   ]
  },
  {
   "cell_type": "markdown",
   "metadata": {},
   "source": [
    "## Part I: 数组"
   ]
  },
  {
   "cell_type": "markdown",
   "metadata": {},
   "source": [
    "### 1.  圆圈中最后剩下的数 —— 约瑟夫环\n",
    "#### 0,1...n-1这n个数字排成一个圆圈，从数字0开始，每次从这个圆圈里删除第m个数字。求出这个圆圈里剩下的最后一个数字。\n",
    "#### 例如，0、1、2、3、4这5个数字组成一个圆圈，从数字0开始每次删除第3个数字，则删除的前4个数字依次是2、0、4、1，因此最后剩下的数字是3。"
   ]
  },
  {
   "cell_type": "markdown",
   "metadata": {},
   "source": [
    "#### 思路： 递归\n",
    "\n",
    "#### $F(n,m):$ under (n,m) setting, the index of the last existing number (i.e., the left number here).\n",
    "\n",
    "#### I. For (n,m) setting, the first number we delete is the number with index $m\\%n $\n",
    "\n",
    " - for (5,3) setting, the first number we delete is the third one ($3%5 =3)$ with index 2 ($3-1=2$)\n",
    "\n",
    "#### II. Then the original circle becomes the a new one with length $n-1$. \n",
    "\n",
    "#### Suppose we know the index of the last existing number when the sequence length is $(n-1)$, which is $X = F(n-1,m)$\n",
    "\n",
    " - for (5,3) setting, $F(4,3) = 0$\n",
    "\n",
    "#### III. Then $F(n,m)$ should be the $X^{th}$ starting from $m\\%n$: $F(n,m) = [m\\%n + F(n-1,m)] \\%n$\n",
    "\n",
    " - for (5,3) setting, $F(5,3) = [3\\% 5 + F(4,3)] \\% 5 = 3$"
   ]
  },
  {
   "cell_type": "code",
   "execution_count": 1,
   "metadata": {},
   "outputs": [],
   "source": [
    "def lastRemaining(n, m):\n",
    "\n",
    "    f = 0 \n",
    "\n",
    "    for i in range(2, n+1):\n",
    "        f = (m % i + f) % i  \n",
    "\n",
    "    return f   "
   ]
  },
  {
   "cell_type": "code",
   "execution_count": 2,
   "metadata": {},
   "outputs": [
    {
     "data": {
      "text/plain": [
       "3"
      ]
     },
     "execution_count": 2,
     "metadata": {},
     "output_type": "execute_result"
    }
   ],
   "source": [
    "n, m = 5, 3\n",
    "lastRemaining(n,m)"
   ]
  },
  {
   "cell_type": "markdown",
   "metadata": {},
   "source": [
    "### 2. 和为s的连续正数序列 \n",
    "\n",
    "#### 输入一个正整数 target ，输出所有和为 target 的连续正整数序列（至少含有两个数）。\n",
    "\n",
    "#### 序列内的数字由小到大排列，不同序列按照首个数字从小到大排列。\n",
    "\n"
   ]
  },
  {
   "cell_type": "markdown",
   "metadata": {},
   "source": [
    "#### 思路：数学题，连续数列求和\n",
    "\n",
    "#### Sum of k consecutive numbers: $x + (x+1) + ... + (x+k-1) = \\frac{(2x+k-1)k}{2} = T$\n",
    "\n",
    "#### Some constraints from question setting:\n",
    "\n",
    " - $x \\ge 1 \\Rightarrow 2x-1 \\ge 1 \\Rightarrow 2x-1+k > k \\Rightarrow (2x+k-1)k > k^2 \\Rightarrow k < \\sqrt{2T}$\n",
    " \n",
    " - $ k \\ge 2$\n",
    "\n",
    "#### Make sure that $2T$ can be seperated as $(2x+k-1)k$:\n",
    "\n",
    "- $2T$ is divisible by k\n",
    "\n",
    "- $\\frac{2T}{k} - k = 2x-1$ is an odd number."
   ]
  },
  {
   "cell_type": "code",
   "execution_count": 3,
   "metadata": {},
   "outputs": [],
   "source": [
    "import math\n",
    "\n",
    "def findContinuousSequence(target):\n",
    "\n",
    "\n",
    "    res = []\n",
    "\n",
    "    a = 2 * target \n",
    "    k = int(math.sqrt(a))\n",
    "\n",
    "    while k > 1:\n",
    "        if a % k == 0 and (a / k - k) % 2 == 1:\n",
    "            start = int((a / k - k + 1 ) / 2)\n",
    "            temp = [x for x in range(start, start + k)]\n",
    "            res.append(temp) \n",
    "        k -= 1 \n",
    "\n",
    "    return res"
   ]
  },
  {
   "cell_type": "code",
   "execution_count": 4,
   "metadata": {},
   "outputs": [
    {
     "data": {
      "text/plain": [
       "[[1, 2, 3, 4, 5], [4, 5, 6], [7, 8]]"
      ]
     },
     "execution_count": 4,
     "metadata": {},
     "output_type": "execute_result"
    }
   ],
   "source": [
    "target = 15\n",
    "findContinuousSequence(target)"
   ]
  },
  {
   "cell_type": "markdown",
   "metadata": {},
   "source": [
    "### 3. 数组中重复的数字\n",
    "\n",
    "#### 在一个长度为 n 的数组 nums 里的所有数字都在 0～n-1 的范围内。\n",
    "#### 数组中某些数字是重复的，但不知道有几个数字重复了，也不知道每个数字重复了几次。请找出数组中`任意一个`重复的数字。\n"
   ]
  },
  {
   "cell_type": "markdown",
   "metadata": {},
   "source": [
    "#### 思路一： 哈希表 (需要使用额外空间)\n",
    "\n",
    "#### 思路二：下标定位法 (利用数组在0 ~ n-1的范围这个条件，不需要使用额外空间)\n",
    "\n",
    "#### Since all numbers in `nums` are in 0 ~ n-1, we can traverse the sequence and make `nums[i] = i` by using swapping. \n",
    "#### Then when we get into the number `x` at the second time, we must have `nums[x] = x`. So just return `x` under this circumstance. "
   ]
  },
  {
   "cell_type": "code",
   "execution_count": 5,
   "metadata": {},
   "outputs": [],
   "source": [
    "def findRepeatNumber(nums):\n",
    "    \n",
    "    hash = {}\n",
    "    \n",
    "    for num in nums:\n",
    "        if num not in hash:\n",
    "            hash[num] = 1 \n",
    "        else:\n",
    "            return num \n",
    "    \n",
    "    return -1"
   ]
  },
  {
   "cell_type": "code",
   "execution_count": 6,
   "metadata": {},
   "outputs": [
    {
     "data": {
      "text/plain": [
       "2"
      ]
     },
     "execution_count": 6,
     "metadata": {},
     "output_type": "execute_result"
    }
   ],
   "source": [
    "nums = [2, 3, 1, 0, 2, 5, 3]\n",
    "findRepeatNumber(nums)"
   ]
  },
  {
   "cell_type": "code",
   "execution_count": 12,
   "metadata": {},
   "outputs": [],
   "source": [
    "def findRepeatNumber(nums):\n",
    "    \n",
    "    i = 0\n",
    "    \n",
    "    while i < len(nums):\n",
    "        \n",
    "        if nums[i] == i:\n",
    "            i += 1 \n",
    "            continue\n",
    "        \n",
    "        if nums[nums[i]] == nums[i]:\n",
    "            return nums[i]\n",
    "        \n",
    "        nums[nums[i]], nums[i] = nums[i], nums[nums[i]]\n",
    "        ## Note: cannot be written as nums[i], nums[nums[i]] = nums[nums[i]], nums[i]\n",
    "    \n",
    "    return -1"
   ]
  },
  {
   "cell_type": "markdown",
   "metadata": {},
   "source": [
    "#### When swapping two numbers we cannot use `nums[i], nums[nums[i]] = nums[nums[i]], nums[i]` here, because:\n",
    "- In Python, `a,b = c,d` works by first saving tuple `(c,d)` and then assign c to a and d to b in order. \n",
    "- If we first change the value of `nums[i]`, then the element `nums[nums[i]]` will change too, which is not desired here. "
   ]
  },
  {
   "cell_type": "code",
   "execution_count": 13,
   "metadata": {},
   "outputs": [
    {
     "data": {
      "text/plain": [
       "2"
      ]
     },
     "execution_count": 13,
     "metadata": {},
     "output_type": "execute_result"
    }
   ],
   "source": [
    "nums = [2, 3, 1, 0, 2, 5, 3]\n",
    "findRepeatNumber(nums)"
   ]
  },
  {
   "cell_type": "markdown",
   "metadata": {},
   "source": [
    "### 4. 和为s的两个数字\n",
    "\n",
    "#### 输入一个递增排序的数组和一个数字s，在数组中查找两个数，使得它们的和正好是s。\n",
    "#### 如果有多对数字的和等于s，则输出任意一对即可。"
   ]
  },
  {
   "cell_type": "markdown",
   "metadata": {},
   "source": [
    "#### 思路：双指针法 — 利用这个数组递增的性质。\n",
    "-  `left`从最左开始，`right`从最右开始\n",
    "-  如果`nums[left]` + `nums[right]` > target: right -= 1 \n",
    "-  如果`nums[left]` + `nums[right]` < target: left += 1"
   ]
  },
  {
   "cell_type": "code",
   "execution_count": 19,
   "metadata": {},
   "outputs": [],
   "source": [
    "def twoSum(nums, target):\n",
    "    \n",
    "    left, right = 0, len(nums)-1\n",
    "    \n",
    "    while left < right:\n",
    "        s = nums[left] + nums[right]\n",
    "        if s == target:\n",
    "            return [nums[left], nums[right]]\n",
    "        if s > target:\n",
    "            right -= 1 \n",
    "        else:\n",
    "            left += 1 \n",
    "    \n",
    "    return None "
   ]
  },
  {
   "cell_type": "code",
   "execution_count": 20,
   "metadata": {},
   "outputs": [
    {
     "data": {
      "text/plain": [
       "[2, 7]"
      ]
     },
     "execution_count": 20,
     "metadata": {},
     "output_type": "execute_result"
    }
   ],
   "source": [
    "nums = [2,7,11,15]\n",
    "target = 9\n",
    "twoSum(nums,target)"
   ]
  },
  {
   "cell_type": "markdown",
   "metadata": {},
   "source": [
    "### 5.扑克牌中的顺子\n",
    "\n",
    "#### 从扑克牌中随机抽5张牌，判断是不是一个顺子，即这5张牌是不是连续的。\n",
    "#### 2～10为数字本身，A为1，J为11，Q为12，K为13，而大、小王为 0 ，可以看成任意数字。A 不能视为 14。"
   ]
  },
  {
   "cell_type": "markdown",
   "metadata": {},
   "source": [
    "#### 思路：难点在于0可以当作任意数字。\n",
    "#### 构成顺子的充要条件：\n",
    "- 所有数字中除0之外，不能有重复；同时，\n",
    "- 最大数字 - 最小数字 < 5"
   ]
  },
  {
   "cell_type": "code",
   "execution_count": 1,
   "metadata": {},
   "outputs": [],
   "source": [
    "def isStraight(nums):\n",
    "    \n",
    "    seen = []\n",
    "    maximum = 0\n",
    "    minimum = 14\n",
    "    \n",
    "    for num in nums:\n",
    "        if num == 0:\n",
    "            continue\n",
    "        if num in seen:\n",
    "            return False \n",
    "        seen.append(num)\n",
    "        \n",
    "        maximum = max(maximum, num)\n",
    "        minimum = min(minimum, num)\n",
    "    \n",
    "    return maximum - minimum < 5"
   ]
  },
  {
   "cell_type": "code",
   "execution_count": 3,
   "metadata": {},
   "outputs": [
    {
     "data": {
      "text/plain": [
       "True"
      ]
     },
     "execution_count": 3,
     "metadata": {},
     "output_type": "execute_result"
    }
   ],
   "source": [
    "nums = [0,0,1,2,5]\n",
    "isStraight(nums)"
   ]
  },
  {
   "cell_type": "markdown",
   "metadata": {},
   "source": [
    "### 6. 青蛙跳台阶问题\n",
    "\n",
    "#### 一只青蛙一次可以跳上1级台阶，也可以跳上2级台阶。求该青蛙跳上一个 n 级的台阶总共有多少种跳法。\n",
    "\n",
    "#### 答案需要取模 1e9+7（1000000007），如计算初始结果为：1000000008，请返回 1。\n",
    "\n"
   ]
  },
  {
   "cell_type": "markdown",
   "metadata": {},
   "source": [
    "#### 思路：Dynamic Programming\n",
    "\n",
    "#### `f(n)`: 跳n级台阶的跳法总数\n",
    "\n",
    "- $f(0) = 1$ initialization\n",
    "\n",
    "- $f(1) = 1$\n",
    "\n",
    "- $f(n) = f(n-1) + f(n-2), n \\ge 2$"
   ]
  },
  {
   "cell_type": "code",
   "execution_count": 6,
   "metadata": {},
   "outputs": [],
   "source": [
    "def numWays(n):\n",
    "    \n",
    "    if n == 0:\n",
    "        return 1 \n",
    "    \n",
    "    dp = [0] * (n+1)\n",
    "    \n",
    "    dp[0], dp[1] = 1,1\n",
    "    \n",
    "    for i in range(2, n+1):\n",
    "        dp[i] = dp[i-1] + dp[i-2]\n",
    "    \n",
    "    return dp[n] % 1000000007"
   ]
  },
  {
   "cell_type": "code",
   "execution_count": 7,
   "metadata": {},
   "outputs": [
    {
     "data": {
      "text/plain": [
       "21"
      ]
     },
     "execution_count": 7,
     "metadata": {},
     "output_type": "execute_result"
    }
   ],
   "source": [
    "n = 7\n",
    "numWays(n)"
   ]
  },
  {
   "cell_type": "markdown",
   "metadata": {},
   "source": [
    "### 7. 连续子数组的最大和\n",
    "\n",
    "#### 输入一个整型数组，数组里有正数也有负数。数组中的一个或连续多个整数组成一个子数组。求所有子数组的和的最大值。\n",
    "\n",
    "#### 要求时间复杂度为O(n)。"
   ]
  },
  {
   "cell_type": "markdown",
   "metadata": {},
   "source": [
    "#### 思路：Dynamic Programming\n",
    "\n",
    "#### $f(i):$ 以`nums[i]`结尾的子数组的最大和\n",
    "\n",
    "- $f(0) = nums[0]$\n",
    "\n",
    "- $f(n) = max(f(n-1)+nums[n], nums[n])$\n",
    "\n",
    "- 所求为$max(f(i))$\n",
    "\n",
    "#### 子数组定义：数组中一个或多个<mark>连续</mark>数组"
   ]
  },
  {
   "cell_type": "code",
   "execution_count": 10,
   "metadata": {},
   "outputs": [],
   "source": [
    "def maxSubArray(nums):\n",
    "    \n",
    "    if not nums:\n",
    "        return 0 \n",
    "    \n",
    "    dp = [0] * len(nums)\n",
    "    \n",
    "    dp[0] = nums[0]\n",
    "    \n",
    "    for i in range(1, len(nums)):\n",
    "        dp[i] = max(dp[i-1]+nums[i], nums[i])\n",
    "    \n",
    "    return max(dp)"
   ]
  },
  {
   "cell_type": "code",
   "execution_count": 11,
   "metadata": {},
   "outputs": [
    {
     "data": {
      "text/plain": [
       "6"
      ]
     },
     "execution_count": 11,
     "metadata": {},
     "output_type": "execute_result"
    }
   ],
   "source": [
    "nums = [-2,1,-3,4,-1,2,1,-5,4]\n",
    "maxSubArray(nums)"
   ]
  },
  {
   "cell_type": "markdown",
   "metadata": {},
   "source": [
    "###  8. 顺时针打印矩阵\n",
    "\n",
    "#### 输入一个矩阵，按照从外向里以顺时针的顺序依次打印出每一个数字。"
   ]
  },
  {
   "cell_type": "markdown",
   "metadata": {},
   "source": [
    "#### 思路：设定边界\n",
    "\n",
    "- 设定上`t`、下`b`、左`l`、右`r` 四个边界。\n",
    "- 模拟从左向右、从上向下、从右向左、从下向上的顺时针顺序依次打印数字\n",
    "- 根据边界打印，将元素加入结果列表\n",
    "- 一条边界打印完，边界向内收缩1\n",
    "- 判断是否打印完毕的条件是，边界是否相遇。\n"
   ]
  },
  {
   "cell_type": "code",
   "execution_count": 5,
   "metadata": {},
   "outputs": [],
   "source": [
    "def spiralOrder(matrix):\n",
    "    \n",
    "    if not matrix:\n",
    "        return \n",
    "    \n",
    "    l, r, t, b = 0, len(matrix[0])-1, 0, len(matrix)-1\n",
    "    res = []\n",
    "    \n",
    "    while 1:\n",
    "        \n",
    "        for i in range(l, r+1):\n",
    "            res.append(matrix[t][i])\n",
    "        t += 1 \n",
    "        if t > b:\n",
    "            break\n",
    "        \n",
    "        for i in range(t, b+1):\n",
    "            res.append(matrix[i][r])\n",
    "        r -= 1 \n",
    "        if l > r:\n",
    "            break\n",
    "        \n",
    "        for i in range(r, l-1, -1):\n",
    "            res.append(matrix[b][i])\n",
    "        b -= 1\n",
    "        if t > b:\n",
    "            break\n",
    "        \n",
    "        for i in range(b, t-1, -1):\n",
    "            res.append(matrix[i][l])\n",
    "        l += 1 \n",
    "        if l > r:\n",
    "            break\n",
    "    \n",
    "    return res"
   ]
  },
  {
   "cell_type": "code",
   "execution_count": 6,
   "metadata": {},
   "outputs": [
    {
     "data": {
      "text/plain": [
       "[1, 2, 3, 4, 8, 12, 11, 10, 9, 5, 6, 7]"
      ]
     },
     "execution_count": 6,
     "metadata": {},
     "output_type": "execute_result"
    }
   ],
   "source": [
    "matrix = [[1,2,3,4],[5,6,7,8],[9,10,11,12]]\n",
    "spiralOrder(matrix)"
   ]
  },
  {
   "cell_type": "markdown",
   "metadata": {},
   "source": [
    "### 9. 旋转数组的最小数字 \n",
    "\n",
    "#### 把一个数组最开始的若干个元素搬到数组的末尾，我们称之为数组的旋转。\n",
    "#### 输入一个递增排序的数组的一个旋转，输出旋转数组的最小元素。\n",
    "#### 例如，数组 [3,4,5,1,2] 为 [1,2,3,4,5] 的一个旋转，该数组的最小值为1。\n"
   ]
  },
  {
   "cell_type": "markdown",
   "metadata": {},
   "source": [
    "#### 思路：二分法\n",
    "\n",
    "#### 难点：数组中数字有重复的情况\n",
    "\n",
    "#### `i`指针指向`numbers`数组左端； `j`指针指向数组右端。$m = (i+j) //2$ 为每次二分的重点\n",
    "\n",
    "- `numbers[m] > numbers[j]`时，`m`在左排序数组中，旋转点在$[m,j]$区间，update $i = m$\n",
    "\n",
    "- `numbers[m] < numbers[j]`时，`m`在右排序数组中，旋转点在$[i,m]$区间，update $j = m$\n",
    "\n",
    "- `numbers[m] == numbers[j]`时, 可证明旋转点在$[i, j-1], $update $j = j-1$\n",
    "\n",
    "#### 不能通过比较`numbers[m]` 和`numbers[i]`来得出位置，因为有可能这个数组并没有反转，此时没有左排序数组。\n",
    "- 本质是因为`j` 的初始值肯定在右排序数组中，而`i`的初始值不一定在左排序数组中"
   ]
  },
  {
   "cell_type": "code",
   "execution_count": 7,
   "metadata": {},
   "outputs": [],
   "source": [
    "def minArray(numbers):\n",
    "    \n",
    "    if not numbers:\n",
    "        return \n",
    "    \n",
    "    start, end = 0, len(numbers)-1\n",
    "    \n",
    "    while start + 1 < end:\n",
    "        \n",
    "        mid = (start + end) // 2 \n",
    "        \n",
    "        if numbers[mid] > numbers[end]:\n",
    "            start = mid \n",
    "        elif numbers[mid] < numbers[end]:\n",
    "            end = mid \n",
    "        else:\n",
    "            end -= 1\n",
    "    \n",
    "    return min(numbers[start], numbers[end])"
   ]
  },
  {
   "cell_type": "code",
   "execution_count": 8,
   "metadata": {},
   "outputs": [
    {
     "data": {
      "text/plain": [
       "0"
      ]
     },
     "execution_count": 8,
     "metadata": {},
     "output_type": "execute_result"
    }
   ],
   "source": [
    "numbers = [2,2,2,0,1]\n",
    "minArray(numbers)"
   ]
  },
  {
   "cell_type": "markdown",
   "metadata": {},
   "source": [
    "###  10. 调整数组顺序使奇数位于偶数前面 \n",
    "\n",
    "#### 输入一个整数数组，实现一个函数来调整该数组中数字的顺序，使得所有奇数位于数组的前半部分，所有偶数位于数组的后半部分。"
   ]
  },
  {
   "cell_type": "markdown",
   "metadata": {},
   "source": [
    "#### 思路：双指针法\n",
    "\n",
    "- `start`指向数组头部， `end`指向数组尾部\n",
    "\n",
    "- `start`依次向左找到第一个偶数，`end`依次向右找到第一个奇数，交换。\n",
    "\n",
    "- 直到`start`和`end`相遇结束"
   ]
  },
  {
   "cell_type": "code",
   "execution_count": 9,
   "metadata": {},
   "outputs": [],
   "source": [
    "def exchange(nums):\n",
    "    \n",
    "    start, end = 0, len(nums)-1\n",
    "    \n",
    "    while start < end:\n",
    "        \n",
    "        while start < end and nums[start] % 2 == 1:\n",
    "            start += 1 \n",
    "        \n",
    "        while start < end and nums[end] % 2 == 0:\n",
    "            end -= 1 \n",
    "        \n",
    "        nums[start], nums[end] = nums[end], nums[start]\n",
    "    \n",
    "    return nums"
   ]
  },
  {
   "cell_type": "code",
   "execution_count": 10,
   "metadata": {},
   "outputs": [
    {
     "data": {
      "text/plain": [
       "[1, 3, 2, 4]"
      ]
     },
     "execution_count": 10,
     "metadata": {},
     "output_type": "execute_result"
    }
   ],
   "source": [
    "nums = [1,2,3,4]\n",
    "exchange(nums)"
   ]
  },
  {
   "cell_type": "markdown",
   "metadata": {},
   "source": [
    "### 11. 斐波那契数列\n",
    "\n",
    "#### 写一个函数，输入 n ，求斐波那契（Fibonacci）数列的第 n 项。\n",
    "\n",
    "#### 斐波那契数列的定义如下：\n",
    "\n",
    "$F(0) = 0,   F(1) = 1$\n",
    "\n",
    "$F(N) = F(N - 1) + F(N - 2)$, 其中 $N > 1$.\n",
    "\n",
    "答案需要取模 1e9+7（1000000007），如计算初始结果为：1000000008，请返回 1。"
   ]
  },
  {
   "cell_type": "markdown",
   "metadata": {},
   "source": [
    "#### 思路：DP"
   ]
  },
  {
   "cell_type": "code",
   "execution_count": 44,
   "metadata": {},
   "outputs": [],
   "source": [
    "def fib(n):\n",
    "    \n",
    "    if n == 0 or n == 1:\n",
    "        return n\n",
    "    \n",
    "    dp = [0]* (n+1)\n",
    "    \n",
    "    dp[1] = 1 \n",
    "    \n",
    "    for i in range(2, n+1):\n",
    "        dp[i] = dp[i-1] + dp[i-2]\n",
    "        \n",
    "    return dp[n] % 1000000007"
   ]
  },
  {
   "cell_type": "code",
   "execution_count": 45,
   "metadata": {
    "scrolled": true
   },
   "outputs": [
    {
     "data": {
      "text/plain": [
       "1"
      ]
     },
     "execution_count": 45,
     "metadata": {},
     "output_type": "execute_result"
    }
   ],
   "source": [
    "fib(2)"
   ]
  },
  {
   "cell_type": "code",
   "execution_count": 47,
   "metadata": {},
   "outputs": [],
   "source": [
    "### 空间优化\n",
    "\n",
    "def fib(n):\n",
    "    \n",
    "    a, b = 0, 1\n",
    "    \n",
    "    for _ in range(n):\n",
    "        \n",
    "        a, b = b, a+b\n",
    "    \n",
    "    return a % 1000000007"
   ]
  },
  {
   "cell_type": "code",
   "execution_count": 48,
   "metadata": {},
   "outputs": [
    {
     "data": {
      "text/plain": [
       "5"
      ]
     },
     "execution_count": 48,
     "metadata": {},
     "output_type": "execute_result"
    }
   ],
   "source": [
    "fib(5)"
   ]
  },
  {
   "cell_type": "code",
   "execution_count": 49,
   "metadata": {},
   "outputs": [
    {
     "data": {
      "text/plain": [
       "0"
      ]
     },
     "execution_count": 49,
     "metadata": {},
     "output_type": "execute_result"
    }
   ],
   "source": [
    "fib(0)"
   ]
  },
  {
   "cell_type": "markdown",
   "metadata": {},
   "source": [
    "### 12. 二维数组中的查找\n",
    "\n",
    "#### 在一个 n * m 的二维数组中，每一行都按照从左到右递增的顺序排序，每一列都按照从上到下递增的顺序排序。\n",
    "#### 请完成一个函数，输入这样的一个二维数组和一个整数，判断数组中是否含有该整数。\n"
   ]
  },
  {
   "cell_type": "markdown",
   "metadata": {},
   "source": [
    "#### 思路：利用这个数组的性质简化搜索过程\n",
    "\n",
    "- 将`target`与每行最后一个数比较:\n",
    "- 如果`target`大，则删掉这一行（行数 +1）\n",
    "- 如果`target`小，则删掉这一列（列数 -1）"
   ]
  },
  {
   "cell_type": "code",
   "execution_count": 1,
   "metadata": {},
   "outputs": [],
   "source": [
    "def findNubmerIn2DAarray(matrix, target):\n",
    "    \n",
    "    if not matrix:\n",
    "        return False \n",
    "    \n",
    "    i = 0\n",
    "    j = len(matrix[0]) - 1 \n",
    "    \n",
    "    while (i < len(matrix) and j >= 0):\n",
    "        if matrix[i][j] == target:\n",
    "            return True \n",
    "        if matrix[i][j] > target:\n",
    "            j -= 1 \n",
    "        else:\n",
    "            i += 1 \n",
    "    \n",
    "    return False"
   ]
  },
  {
   "cell_type": "code",
   "execution_count": 3,
   "metadata": {},
   "outputs": [
    {
     "data": {
      "text/plain": [
       "True"
      ]
     },
     "execution_count": 3,
     "metadata": {},
     "output_type": "execute_result"
    }
   ],
   "source": [
    "matrix = [\n",
    "  [1,   4,  7, 11, 15],\n",
    "  [2,   5,  8, 12, 19],\n",
    "  [3,   6,  9, 16, 22],\n",
    "  [10, 13, 14, 17, 24],\n",
    "  [18, 21, 23, 26, 30]\n",
    "]\n",
    "\n",
    "target = 5\n",
    "\n",
    "findNubmerIn2DAarray(matrix, target)"
   ]
  },
  {
   "cell_type": "markdown",
   "metadata": {},
   "source": [
    "### 13. n个骰子的点数\n",
    "\n",
    "#### 把n个骰子扔在地上，所有骰子朝上一面的点数之和为s。输入n，打印出s的所有可能的值出现的概率。\n",
    "\n",
    "#### 你需要用一个浮点数数组返回答案，其中第 i 个元素代表这 n 个骰子所能掷出的点数集合中第 i 小的那个的概率。\n"
   ]
  },
  {
   "cell_type": "markdown",
   "metadata": {},
   "source": [
    "#### 思路：DP\n",
    "\n",
    "#### dp：维数 $n \\times (6 \\times n)$\n",
    "- `dp[i][j]`:掷完 $i$ 个骰子之后出现点数总和为 $j$ 的次数\n",
    "\n",
    "- `dp[i][j] = dp[i-1][j-k]` for $ k = 1, 2, ..., 6$"
   ]
  },
  {
   "cell_type": "code",
   "execution_count": 3,
   "metadata": {},
   "outputs": [],
   "source": [
    "def twoSum(n):\n",
    "    \n",
    "    dp = [[0 for _ in range(6*n)] for _ in range(n)]\n",
    "    \n",
    "    for i in range(6):\n",
    "        dp[0][i] = 1\n",
    "    \n",
    "    for i in range(1, n):\n",
    "        for j in range(i, 6*(i+1)):\n",
    "            for k in range(1,7):\n",
    "                if j - k < 0:\n",
    "                    break;\n",
    "                dp[i][j] += dp[i-1][j-k]\n",
    "    \n",
    "    total = sum(dp[-1])\n",
    "    \n",
    "    return [x / total for x in dp[-1][n-1:]]"
   ]
  },
  {
   "cell_type": "code",
   "execution_count": 4,
   "metadata": {},
   "outputs": [
    {
     "data": {
      "text/plain": [
       "[0.027777777777777776,\n",
       " 0.05555555555555555,\n",
       " 0.08333333333333333,\n",
       " 0.1111111111111111,\n",
       " 0.1388888888888889,\n",
       " 0.16666666666666666,\n",
       " 0.1388888888888889,\n",
       " 0.1111111111111111,\n",
       " 0.08333333333333333,\n",
       " 0.05555555555555555,\n",
       " 0.027777777777777776]"
      ]
     },
     "execution_count": 4,
     "metadata": {},
     "output_type": "execute_result"
    }
   ],
   "source": [
    "n = 2\n",
    "twoSum(n)"
   ]
  },
  {
   "cell_type": "markdown",
   "metadata": {},
   "source": [
    "### 14. 数组中出现次数超过一半的数字\n",
    "\n",
    "#### 数组中有一个数字出现的次数超过数组长度的一半，请找出这个数字。\n",
    "\n",
    "#### 你可以假设数组是非空的，并且给定的数组总是存在多数元素。\n",
    "\n"
   ]
  },
  {
   "cell_type": "markdown",
   "metadata": {},
   "source": [
    "#### 思路一：哈希表，统计个数字出现的次数\n",
    "\n",
    "#### 思路二：将数组排序，按照题目中的设定则数组中点的元素为众数\n",
    "\n",
    "#### 思路三：摩尔投票法\n",
    "\n",
    "- 由于题目中规定的众数是出现次数超过数组长度的一半，所以若假设众数的票数为 $+1$， 非众数的票数为 $-1$，那么所有数字的票数和 $>0$ \n",
    "\n",
    "- 设真正的众数为 $x$. 假设数组首个元素 $n_1$ 为众数，遍历统计票数，当发生正负抵消票数和为 $0$时，剩余数组的众数是不变的（仍未$x$)。\n",
    "\n",
    "   - 当 $n_1 = x$:抵消的所有数中，有一半数是众数 $x$\n",
    "   - 当 $n_1 \\ne x$:抵消的所有数中，有少于或等于一半数是众数 $x$\n",
    "   \n",
    "- 每轮缩小数组区间"
   ]
  },
  {
   "cell_type": "code",
   "execution_count": 9,
   "metadata": {},
   "outputs": [],
   "source": [
    "### 哈希表\n",
    "\n",
    "def majorityElement(nums):\n",
    "    \n",
    "    dic = {}\n",
    "    \n",
    "    for char in nums:\n",
    "        if char in dic:\n",
    "            dic[char] += 1\n",
    "        else:\n",
    "            dic[char] = 1\n",
    "    \n",
    "    for key, val in dic.items():\n",
    "        if val > (len(nums)//2):\n",
    "            return key"
   ]
  },
  {
   "cell_type": "code",
   "execution_count": 10,
   "metadata": {},
   "outputs": [
    {
     "data": {
      "text/plain": [
       "2"
      ]
     },
     "execution_count": 10,
     "metadata": {},
     "output_type": "execute_result"
    }
   ],
   "source": [
    "nums = [1, 2, 3, 2, 2, 2, 5, 4, 2]\n",
    "majorityElement(nums)"
   ]
  },
  {
   "cell_type": "code",
   "execution_count": 13,
   "metadata": {},
   "outputs": [],
   "source": [
    "### 摩尔投票\n",
    "\n",
    "def majorityElement(nums):\n",
    "    \n",
    "    vote = 0 \n",
    "    \n",
    "    for num in nums:\n",
    "        \n",
    "        if vote == 0:\n",
    "            majority = num\n",
    "        \n",
    "        if num == majority:\n",
    "            vote += 1 \n",
    "        else:\n",
    "            vote -= 1\n",
    "    \n",
    "    return majority\n",
    "        "
   ]
  },
  {
   "cell_type": "code",
   "execution_count": 14,
   "metadata": {},
   "outputs": [
    {
     "data": {
      "text/plain": [
       "2"
      ]
     },
     "execution_count": 14,
     "metadata": {},
     "output_type": "execute_result"
    }
   ],
   "source": [
    "nums = [1, 2, 3, 2, 2, 2, 5, 4, 2]\n",
    "majorityElement(nums)"
   ]
  },
  {
   "cell_type": "markdown",
   "metadata": {},
   "source": [
    "### 15. 打印从1到最大的n位数\n",
    "\n",
    "#### 输入数字 n，按顺序打印出从 1 到最大的 n 位十进制数。比如输入 3，则打印出 1、2、3 一直到最大的 3 位数 999"
   ]
  },
  {
   "cell_type": "markdown",
   "metadata": {},
   "source": [
    "#### 思路：本题的意义在于当n很大时，在某些编程语言上无法用整数型的数来表示一个很大的整数（Python没有这个问题）"
   ]
  },
  {
   "cell_type": "markdown",
   "metadata": {},
   "source": [
    "### 16. 0 ~ n-1中缺失的数字\n",
    "\n",
    "#### 一个长度为n-1的递增排序数组中的所有数字都是唯一的，并且每个数字都在范围0～n-1之内。\n",
    "\n",
    "#### 在范围0～n-1内的n个数字中有且只有一个数字不在该数组中，请找出这个数字。\n"
   ]
  },
  {
   "cell_type": "markdown",
   "metadata": {},
   "source": [
    "#### 思路：二分法\n",
    "\n",
    "#### 利用数组递增排序的性质，如果缺失的是数字 $x$, 则：\n",
    "\n",
    "- `nums[0]`至`nums[x-1]`都满足：`nums[i] = i`\n",
    "\n",
    "- `nums[x]`至`nums[n-1]`都不满足: `nums[i] = i`\n",
    "\n",
    "#### 注意特殊情况：数组是连续的 e.g $[0,1]$ or $[0]$ or $[1]$\n",
    "\n",
    "- 对于$[1]$这种情况，`nums[start] != start`, 返回`start`\n",
    "\n",
    "- 对于$[0]$这种情况，`nums[end] == end`, 返回 `end + 1`\n",
    "\n",
    "- 对于$[0,1]$这种情况，同$[0]$这种情况 "
   ]
  },
  {
   "cell_type": "code",
   "execution_count": 55,
   "metadata": {},
   "outputs": [],
   "source": [
    "def missingNumbers(nums):\n",
    "    \n",
    "    start, end = 0, len(nums)-1\n",
    "    \n",
    "    while start + 1 < end:\n",
    "        \n",
    "        mid = (start + end) // 2\n",
    "        \n",
    "        if nums[mid] == mid:\n",
    "            start = mid \n",
    "        else:\n",
    "            end = mid\n",
    "    \n",
    "    if nums[start] != start:\n",
    "        return start \n",
    "    if nums[end] != end:\n",
    "        return end\n",
    "    return end+1\n",
    "    "
   ]
  },
  {
   "cell_type": "code",
   "execution_count": 56,
   "metadata": {},
   "outputs": [
    {
     "data": {
      "text/plain": [
       "2"
      ]
     },
     "execution_count": 56,
     "metadata": {},
     "output_type": "execute_result"
    }
   ],
   "source": [
    "nums = [0,1]\n",
    "missingNumbers(nums)"
   ]
  },
  {
   "cell_type": "code",
   "execution_count": 57,
   "metadata": {},
   "outputs": [
    {
     "data": {
      "text/plain": [
       "3"
      ]
     },
     "execution_count": 57,
     "metadata": {},
     "output_type": "execute_result"
    }
   ],
   "source": [
    "nums = [0,1,2,4,5,6]\n",
    "missingNumbers(nums)"
   ]
  },
  {
   "cell_type": "markdown",
   "metadata": {},
   "source": [
    "### 17. 在排序数组中查找数字\n",
    "\n",
    "#### 统计一个数字在排序数组中出现的次数。"
   ]
  },
  {
   "cell_type": "markdown",
   "metadata": {},
   "source": [
    "#### 思路：二分法\n",
    "\n",
    "#### 利用二分法在排序数组中查找target出现的首个位置和最后位置，从而得出它出现的频数\n",
    "\n",
    "#### 简化代码：利用同样的二分查找函数，查找\n",
    "- 第一个大于等于target的数的位置$k_1$\n",
    "\n",
    "- 第一个大于等于target+1的数的位置$k_2$\n",
    "\n",
    "- 则target的出现的次数为$k_2 - k_1$"
   ]
  },
  {
   "cell_type": "code",
   "execution_count": 63,
   "metadata": {},
   "outputs": [],
   "source": [
    "def search(nums, target):\n",
    "    \n",
    "    k1 = helper(nums, target)\n",
    "    k2 = helper(nums, target + 1)\n",
    "    \n",
    "    return k2 - k1 \n",
    "\n",
    "def helper(nums, target):\n",
    "    \n",
    "    start, end = 0, len(nums)-1\n",
    "    \n",
    "    while start + 1 < end:\n",
    "        mid = (start + end) // 2 \n",
    "        \n",
    "        if nums[mid] < target:\n",
    "            start = mid\n",
    "        else:\n",
    "            end = mid \n",
    "    \n",
    "    if nums[start] >= target:\n",
    "        return start \n",
    "    \n",
    "    if nums[end] < target:\n",
    "        return end + 1 \n",
    "    \n",
    "    return end "
   ]
  },
  {
   "cell_type": "code",
   "execution_count": 64,
   "metadata": {},
   "outputs": [
    {
     "data": {
      "text/plain": [
       "0"
      ]
     },
     "execution_count": 64,
     "metadata": {},
     "output_type": "execute_result"
    }
   ],
   "source": [
    "nums = [5,7,9,9,9,10]\n",
    "target = 4\n",
    "search(nums,target)"
   ]
  },
  {
   "cell_type": "code",
   "execution_count": 66,
   "metadata": {},
   "outputs": [
    {
     "data": {
      "text/plain": [
       "2"
      ]
     },
     "execution_count": 66,
     "metadata": {},
     "output_type": "execute_result"
    }
   ],
   "source": [
    "nums = [2,2]\n",
    "target = 2\n",
    "search(nums,target)"
   ]
  },
  {
   "cell_type": "markdown",
   "metadata": {},
   "source": [
    "### 18. 构建乘积数组\n",
    "\n",
    "#### 给定一个数组 `A[0,1,…,n-1]`，请构建一个数组 `B[0,1,…,n-1]`，其中 B 中的元素 `B[i]=A[0]×A[1]×…×A[i-1]×A[i+1]×…×A[n-1]`。\n",
    "#### 不能使用除法。\n"
   ]
  },
  {
   "cell_type": "markdown",
   "metadata": {},
   "source": [
    "#### 思路：两次循环计算"
   ]
  },
  {
   "cell_type": "code",
   "execution_count": 74,
   "metadata": {},
   "outputs": [],
   "source": [
    "def constructArr(a):\n",
    "\n",
    "    n = len(a)\n",
    "\n",
    "    b = [1] * n\n",
    "    tmp = 1\n",
    "\n",
    "    for i in range(1, n):\n",
    "        b[i] = b[i-1] * a[i-1]\n",
    "\n",
    "    for j in range(n-1, 0, -1):\n",
    "        tmp *= a[j]\n",
    "        b[j-1] *= tmp \n",
    "\n",
    "    return b"
   ]
  },
  {
   "cell_type": "code",
   "execution_count": 75,
   "metadata": {},
   "outputs": [
    {
     "data": {
      "text/plain": [
       "[120, 60, 40, 30, 24]"
      ]
     },
     "execution_count": 75,
     "metadata": {},
     "output_type": "execute_result"
    }
   ],
   "source": [
    "a = [1,2,3,4,5]\n",
    "constructArr(a)"
   ]
  },
  {
   "cell_type": "markdown",
   "metadata": {},
   "source": [
    "## Part II 字符串"
   ]
  },
  {
   "cell_type": "markdown",
   "metadata": {},
   "source": [
    "### 1. 第一个只出现一次的字符\n",
    "\n",
    "#### 在字符串 s 中找出第一个只出现一次的字符。如果没有，返回一个单空格。 s 只包含小写字母。"
   ]
  },
  {
   "cell_type": "markdown",
   "metadata": {},
   "source": [
    "#### 思路一：哈希表\n",
    "\n",
    "- 遍历字符串`s`,使用哈希表统计每个字符出现的次数\n",
    "\n",
    "- 再遍历一遍字符串`s`, 返回第一个出现次数为1的字符\n",
    "\n",
    "\n",
    "#### 思路二：有序哈希表（在哈希表基础上，有序哈希表是按照插入顺序排序的）\n",
    "\n",
    "- 先构建有序哈希表，再遍历有序哈希表即可\n",
    "\n",
    "- 因为有序哈希表是去重的，所以当字符串`s`很长时，比上面的方法有效\n",
    "\n",
    "#### Python 3.6 后，默认字典就是有序的"
   ]
  },
  {
   "cell_type": "code",
   "execution_count": 52,
   "metadata": {},
   "outputs": [],
   "source": [
    "def firstUniqChar(s):\n",
    "\n",
    "    if not s:\n",
    "        return ' '\n",
    "\n",
    "    dic = {}\n",
    "\n",
    "    for char in s:\n",
    "        if char in dic:\n",
    "            dic[char] += 1 \n",
    "        else:\n",
    "            dic[char] = 1\n",
    "\n",
    "    for key, val in dic.items():\n",
    "        if val == 1:\n",
    "            return key \n",
    "\n",
    "    return ' '"
   ]
  },
  {
   "cell_type": "code",
   "execution_count": 53,
   "metadata": {},
   "outputs": [
    {
     "data": {
      "text/plain": [
       "'b'"
      ]
     },
     "execution_count": 53,
     "metadata": {},
     "output_type": "execute_result"
    }
   ],
   "source": [
    "s = \"abaccdeff\"\n",
    "firstUniqChar(s)"
   ]
  },
  {
   "cell_type": "markdown",
   "metadata": {},
   "source": [
    "### 2. 替换空格\n",
    "\n",
    "#### 请实现一个函数，把字符串 s 中的每个空格替换成\"%20\"。"
   ]
  },
  {
   "cell_type": "markdown",
   "metadata": {},
   "source": [
    "#### 思路：Python中字符串时不可变的类型，无法直接修改其某一位的字符 —— 新建一个字符串"
   ]
  },
  {
   "cell_type": "code",
   "execution_count": 56,
   "metadata": {},
   "outputs": [],
   "source": [
    "def replaceSpace(s):\n",
    "    \n",
    "    res = []\n",
    "    \n",
    "    for char in s:\n",
    "        if char == ' ':\n",
    "            res.append('%20')\n",
    "        else:\n",
    "            res.append(char)\n",
    "    \n",
    "    return ''.join(res)"
   ]
  },
  {
   "cell_type": "code",
   "execution_count": 57,
   "metadata": {},
   "outputs": [
    {
     "data": {
      "text/plain": [
       "'We%20are%20happy.'"
      ]
     },
     "execution_count": 57,
     "metadata": {},
     "output_type": "execute_result"
    }
   ],
   "source": [
    "s = \"We are happy.\"\n",
    "replaceSpace(s)"
   ]
  },
  {
   "cell_type": "markdown",
   "metadata": {},
   "source": [
    "### 3. 左旋转字符串\n",
    "\n",
    "#### 字符串的左旋转操作是把字符串前面的若干个字符转移到字符串的尾部。请定义一个函数实现字符串左旋转操作的功能。\n",
    "#### 比如，输入字符串\"abcdefg\"和数字2，该函数将返回左旋转两位得到的结果\"cdefgab\"。\n"
   ]
  },
  {
   "cell_type": "markdown",
   "metadata": {},
   "source": [
    "#### 思路：字符串的切片和拼接"
   ]
  },
  {
   "cell_type": "code",
   "execution_count": 62,
   "metadata": {},
   "outputs": [],
   "source": [
    "def reverseLeftWords(s, n):\n",
    "    \n",
    "    index = n % len(s)\n",
    "    \n",
    "    return s[index:] + s[:index]"
   ]
  },
  {
   "cell_type": "code",
   "execution_count": 63,
   "metadata": {},
   "outputs": [
    {
     "data": {
      "text/plain": [
       "'cdefgab'"
      ]
     },
     "execution_count": 63,
     "metadata": {},
     "output_type": "execute_result"
    }
   ],
   "source": [
    "s = \"abcdefg\"\n",
    "n = 2\n",
    "reverseLeftWords(s,n)"
   ]
  },
  {
   "cell_type": "markdown",
   "metadata": {},
   "source": [
    "### 4. 翻转单词顺序\n",
    "\n",
    "#### 输入一个英文句子，翻转句子中单词的顺序，但单词内字符的顺序不变。\n",
    "\n",
    "#### 为简单起见，标点符号和普通字母一样处理。\n",
    "\n",
    "#### 例如输入字符串\"I am a student. \"，则输出\"student. a am I\"。"
   ]
  },
  {
   "cell_type": "markdown",
   "metadata": {},
   "source": [
    "#### 思路一：利用Python中的库函数做字符串的分割和倒序\n",
    "\n",
    "- `split(\" \")`: 对于多个空格连在一起的情况，每个空格也会做分割，会将空格分隔出来作为空\n",
    "\n",
    "- `split()`: 将多个连在一起的空格作为一个空格，不会右单独的空格被分割出来的情况\n",
    "\n",
    "- `reverse()`: 反转单词列表\n",
    "\n",
    "- `' '.join()`：再把反转后的单词列表用空格拼接为字符串\n",
    "\n",
    "#### 思路二：双指针\n",
    "\n",
    "- `.strip()`: 删除首尾空格\n",
    "\n",
    "- 倒序遍历字符串，利用两个指针`i`和`j`记录和寻找一个单词的边界，找到之后将一个完整的单词加入到单词列表中\n",
    "\n",
    "  - `i`和`j`都从最后一个位置出发，`i`依次向左，直到遇到空格，截取出`i`和`j`中间的单词； \n",
    "  - `i`继续向左，找到下一个单词的尾部，然后将`j`挪到`i`处\n",
    "  - 依次重复，直到`i` = 0 \n",
    "\n",
    "- 最后将单词列表拼接为字符串返回"
   ]
  },
  {
   "cell_type": "code",
   "execution_count": 46,
   "metadata": {},
   "outputs": [],
   "source": [
    "### 使用库函数\n",
    "\n",
    "def reverseWords(s):\n",
    "    \n",
    "    s = s.split()\n",
    "    \n",
    "    s.reverse()\n",
    "    \n",
    "    return ' '.join(s)"
   ]
  },
  {
   "cell_type": "code",
   "execution_count": 47,
   "metadata": {},
   "outputs": [
    {
     "data": {
      "text/plain": [
       "'world! hello'"
      ]
     },
     "execution_count": 47,
     "metadata": {},
     "output_type": "execute_result"
    }
   ],
   "source": [
    "s = \"  hello world!  \"\n",
    "reverseWords(s)"
   ]
  },
  {
   "cell_type": "code",
   "execution_count": 52,
   "metadata": {},
   "outputs": [],
   "source": [
    "### 双指针\n",
    "\n",
    "def reverseWords(s):\n",
    "    \n",
    "    result = []\n",
    "    \n",
    "    s = s.strip()\n",
    "    \n",
    "    i = j = len(s) - 1\n",
    "    \n",
    "    while i >= 0:\n",
    "        \n",
    "        while i >=0 and s[i] != ' ':\n",
    "            i -= 1 \n",
    "        result.append(s[i+1 : j+1])\n",
    "        \n",
    "        while s[i] == ' ':\n",
    "            i -= 1 \n",
    "        \n",
    "        j = i\n",
    "    \n",
    "    return ' '.join(result)"
   ]
  },
  {
   "cell_type": "code",
   "execution_count": 53,
   "metadata": {},
   "outputs": [
    {
     "data": {
      "text/plain": [
       "'world! hello'"
      ]
     },
     "execution_count": 53,
     "metadata": {},
     "output_type": "execute_result"
    }
   ],
   "source": [
    "s = \"  hello world!  \"\n",
    "reverseWords(s)"
   ]
  },
  {
   "cell_type": "markdown",
   "metadata": {},
   "source": [
    "## Part III: 栈和队列"
   ]
  },
  {
   "cell_type": "markdown",
   "metadata": {},
   "source": [
    "### 1. 最小的k个数\n",
    "#### 输入整数数组 `arr` ，找出其中最小的 `k` 个数。\n",
    "#### 例如，输入4、5、1、6、2、7、3、8这8个数字，则最小的4个数字是1、2、3、4。"
   ]
  },
  {
   "cell_type": "markdown",
   "metadata": {},
   "source": [
    "#### 思路一：排序，取出前k个元素\n",
    "#### 思路二：优先队列\n",
    "#### Use Max Heap. Add the element one at a time into a heap. When the length of the heap is `k`, pop the biggest element in the heap.  \n",
    "- `heapq` in Python is a Min Heap：heapq.headpop - pop and return the samllest item from the heap\n",
    "- change `num` into `-1*num` and then use `heapq` to maintain a max heap"
   ]
  },
  {
   "cell_type": "code",
   "execution_count": 16,
   "metadata": {},
   "outputs": [],
   "source": [
    "from heapq import heappush, heappushpop\n",
    "\n",
    "def getLeastNumbers(arr, k):\n",
    "    \n",
    "    heap = []\n",
    "    \n",
    "    for num in arr:\n",
    "        if len(heap) == k:\n",
    "            heappushpop(heap, -num)\n",
    "        else:\n",
    "            heappush(heap, -num)\n",
    "    \n",
    "    return [-x for x in heap]"
   ]
  },
  {
   "cell_type": "code",
   "execution_count": 17,
   "metadata": {},
   "outputs": [
    {
     "data": {
      "text/plain": [
       "[2, 1]"
      ]
     },
     "execution_count": 17,
     "metadata": {},
     "output_type": "execute_result"
    }
   ],
   "source": [
    "arr = [3,2,1]\n",
    "k = 2\n",
    "getLeastNumbers(arr,k)"
   ]
  },
  {
   "cell_type": "markdown",
   "metadata": {},
   "source": [
    "### 2. 用两个栈实现队列\n",
    "#### 用两个栈实现一个队列。队列的声明如下，\n",
    "#### 请实现它的两个函数 appendTail 和 deleteHead ，分别完成在队列尾部插入整数和在队列头部删除整数的功能。\n",
    "#### (若队列中没有元素，deleteHead 操作返回 -1 )\n"
   ]
  },
  {
   "cell_type": "markdown",
   "metadata": {},
   "source": [
    "#### 思路：\n",
    "#### 利用两个栈`stack1`, `stack2`\n",
    "#### 加入元素：直接往`stack2`中加\n",
    "#### 得到/删除队头元素：利用`stack1`, 将`stack2`中元素倒入`stack1`\n",
    " - 先判断`stack1`是否为空，如果不为空则取出/删除`stack1`的栈顶元素\n",
    " - 如果为空，将`stack2`中元素倒入`stack1`,再取出/删除`stack1`的栈顶元素"
   ]
  },
  {
   "cell_type": "code",
   "execution_count": null,
   "metadata": {},
   "outputs": [],
   "source": [
    "class CQueue:\n",
    "\n",
    "    def __init__(self):\n",
    "\n",
    "        self.stack1 = []\n",
    "        self.stack2 = []\n",
    "\n",
    "\n",
    "    def appendTail(self, value: int) -> None:\n",
    "        self.stack2.append(value)\n",
    "\n",
    "\n",
    "    def deleteHead(self) -> int:\n",
    "        \n",
    "        if len(self.stack1) > 0 :\n",
    "            return self.stack1.pop()\n",
    "        \n",
    "        while len(self.stack2) > 0:\n",
    "            self.stack1.append(self.stack2.pop())\n",
    "        \n",
    "        if len(self.stack1) == 0:\n",
    "            return -1 \n",
    "        \n",
    "        return self.stack1.pop()"
   ]
  },
  {
   "cell_type": "markdown",
   "metadata": {},
   "source": [
    "### 3. 包含min函数的栈\n",
    "\n",
    "#### 定义栈的数据结构，请在该类型中实现一个能够得到栈的最小元素的 min 函数在该栈中，调用 min、push 及 pop 的时间复杂度都是 O(1)。"
   ]
  },
  {
   "cell_type": "markdown",
   "metadata": {},
   "source": [
    "#### 思路：建立辅助栈\n",
    "\n",
    "- 栈A：用于存储所有元素，实现`push()`, `pop()`, `top()`\n",
    "\n",
    "- 栈B：用于存储栈A中所有非严格降序的元素，即栈中的最小元素始终对应栈B的栈顶元素。实现O(1)的`min()`\n"
   ]
  },
  {
   "cell_type": "code",
   "execution_count": 55,
   "metadata": {},
   "outputs": [],
   "source": [
    "class MinStack:\n",
    "    \n",
    "    def __init__(self):\n",
    "        \n",
    "        self.A = []\n",
    "        self.B = []\n",
    "        \n",
    "    def push(self, x):\n",
    "        \n",
    "        self.A.append(x)\n",
    "        if not self.B or self.B[-1] >= x:\n",
    "            self.B.append(x)\n",
    "    \n",
    "    def pop(self):\n",
    "        \n",
    "        if self.pop(A) == self.B[-1]:\n",
    "            self.B.pop()\n",
    "    \n",
    "    def top(self):\n",
    "        \n",
    "        return self.A[-1]"
   ]
  },
  {
   "cell_type": "markdown",
   "metadata": {},
   "source": [
    "### 4. 滑动窗口的最大值\n",
    "\n",
    "#### 给定一个数组 nums 和滑动窗口的大小 k，请找出所有滑动窗口里的最大值。"
   ]
  },
  {
   "cell_type": "markdown",
   "metadata": {},
   "source": [
    "#### 思路：双端队列deque\n",
    "\n",
    "#### deque保存的是坐标，且维持对应元素是非递增序列，即deque的头元素所对应的数字为当前滑动窗口中最大的数所对应的坐标\n",
    "\n",
    "`for i in range(len(nums)):`\n",
    "\n",
    "- 如果`i - deque[0] >= k`, 说明`deque[0]`已经超出了窗口范围，要删除\n",
    "\n",
    "- 加入`i`进`deque`之前, 先循环判断`nums[i]`与 `nums[deque[-1]]`的大小，如果`nums[i]`要大，就把`deque[-1]`删掉。，以保证`deque`的头部永远保存的是当前窗口中最大元素所对应的下标。\n",
    "\n",
    "- 对于每个窗口的最大值即为当前的`nums[deque[-1]]`\n",
    "\n",
    "#### Python中的双端队列为`collections.deque`\n",
    "\n",
    "- 普通的list： `pop()` (默认值为pop(-1)) -- O(1), `pop(0)` -- O(n)\n",
    "\n",
    "- deque: `pop()`, `popleft()` -- O(1)"
   ]
  },
  {
   "cell_type": "code",
   "execution_count": 60,
   "metadata": {},
   "outputs": [],
   "source": [
    "from collections import deque\n",
    "\n",
    "def maxSlideingWindow(nums, k):\n",
    "    \n",
    "    queue = deque([])\n",
    "    results = []\n",
    "    \n",
    "    for i in range(len(nums)):\n",
    "        \n",
    "        if len(queue) > 0 and i - queue[0] >= k:\n",
    "            queue.popleft()\n",
    "        \n",
    "        while len(queue) > 0 and nums[i] >= nums[queue[-1]]:\n",
    "            queue.pop()\n",
    "        \n",
    "        queue.append(i)\n",
    "        \n",
    "        if i >= k-1:\n",
    "            results.append(nums[queue[0]])\n",
    "    \n",
    "    return results"
   ]
  },
  {
   "cell_type": "code",
   "execution_count": 61,
   "metadata": {},
   "outputs": [
    {
     "data": {
      "text/plain": [
       "[3, 3, 5, 5, 6, 7]"
      ]
     },
     "execution_count": 61,
     "metadata": {},
     "output_type": "execute_result"
    }
   ],
   "source": [
    "nums = [1,3,-1,-3,5,3,6,7]\n",
    "k = 3\n",
    "maxSlideingWindow(nums, k)"
   ]
  },
  {
   "cell_type": "markdown",
   "metadata": {},
   "source": [
    "## Part IV: 链表"
   ]
  },
  {
   "cell_type": "markdown",
   "metadata": {},
   "source": [
    "### 1. 反转链表\n",
    "\n",
    "#### 定义一个函数，输入一个链表的头节点，反转该链表并输出反转后链表的头节点。\n",
    "\n"
   ]
  },
  {
   "cell_type": "markdown",
   "metadata": {},
   "source": [
    "#### 思路一：双指针\n",
    "-  定义两个指针：`pre` 和 `cur`, 局部反转之后两个指针都向前移动一个位置\n",
    "\n",
    "#### 思路二：递归\n",
    "-  终止条件室当前节点或下一个节点为`null`\n",
    "-  在函数内部，改变节点指向"
   ]
  },
  {
   "cell_type": "code",
   "execution_count": 14,
   "metadata": {},
   "outputs": [],
   "source": [
    "# Definition for singly-linked list.\n",
    "# class ListNode:\n",
    "#     def __init__(self, x):\n",
    "#         self.val = x\n",
    "#         self.next = None\n",
    "\n",
    "def reverseList(head):\n",
    "    \n",
    "    while not head or not head.next:\n",
    "        return head \n",
    "    \n",
    "    pre = None\n",
    "    cur = head\n",
    "    \n",
    "    while cur:\n",
    "        nex = cur.next\n",
    "        cur.next = pre \n",
    "        pre, cur = cur, nex \n",
    "        \n",
    "    return pre "
   ]
  },
  {
   "cell_type": "code",
   "execution_count": 15,
   "metadata": {},
   "outputs": [],
   "source": [
    "def reverseList(head):\n",
    "    \n",
    "    if not head or not head.next:\n",
    "        return head \n",
    "    \n",
    "    cur = self.reverseList(head.next)\n",
    "    head.next.next = head \n",
    "    head.next = None # 防止链表循环\n",
    "    \n",
    "    return cur"
   ]
  },
  {
   "cell_type": "markdown",
   "metadata": {},
   "source": [
    "### 2. 合并两个排序的链表\n",
    "\n",
    "#### 输入两个递增排序的链表，合并这两个链表并使新链表中的节点仍然是递增排序的。"
   ]
  },
  {
   "cell_type": "markdown",
   "metadata": {},
   "source": [
    "#### 思路：双指针 — 用双指针`l1`、 `l2`遍历两个链表。\n",
    "-  引入伪头指针`dum`作为合并链表的伪头节点，将各节点添加至dum之后。\n",
    "-  `cur`指针，初始指向`dum`, 后通过比较两个list的值来update"
   ]
  },
  {
   "cell_type": "code",
   "execution_count": 18,
   "metadata": {},
   "outputs": [],
   "source": [
    "def mergeTwoLists(l1, l2):\n",
    "    \n",
    "    if not l1:\n",
    "        return l2\n",
    "    if not l2:\n",
    "        return l1\n",
    "    \n",
    "    cur = dum = ListNode(0)\n",
    "    \n",
    "    while l1 and l2:\n",
    "        if l1.val < l2.val:\n",
    "            cur.next = l1  # 节点，而不是节点的值\n",
    "            l1 = l1.next \n",
    "        else:\n",
    "            cur.next = l2\n",
    "            l2 = l2.next \n",
    "    \n",
    "    if l1:\n",
    "        cur.next = l1 \n",
    "    else:\n",
    "        cur.next = l2 \n",
    "    \n",
    "    return dum.next "
   ]
  },
  {
   "cell_type": "markdown",
   "metadata": {},
   "source": [
    "### 3. 链表中倒数第k个节点\n",
    "\n",
    "#### 输入一个链表，输出该链表中倒数第k个节点。\n",
    "#### 为了符合大多数人的习惯，本题从1开始计数，即链表的尾节点是倒数第1个节点。\n",
    "#### 例如，一个链表有6个节点，从头节点开始，它们的值依次是1、2、3、4、5、6。这个链表的倒数第3个节点是值为4的节点。"
   ]
  },
  {
   "cell_type": "markdown",
   "metadata": {},
   "source": [
    "#### 思路：双指针法\n",
    "\n",
    "- 快指针：先走k步\n",
    "- 慢指针：指向head\n",
    "- 然后快慢指针同时前进，当快指针走到尾部的null节点时，慢指针指向倒数第k个节点"
   ]
  },
  {
   "cell_type": "code",
   "execution_count": null,
   "metadata": {},
   "outputs": [],
   "source": [
    "# Definition for singly-linked list.\n",
    "# class ListNode:\n",
    "#     def __init__(self, x):\n",
    "#         self.val = x\n",
    "#         self.next = None\n",
    "\n",
    "def getKthFromEnd(head, k):\n",
    "    \n",
    "    front, end = head, head \n",
    "    \n",
    "    for _ in range(k):\n",
    "        front = front.next \n",
    "    \n",
    "    while front:\n",
    "        front = front.next \n",
    "        end = end.next \n",
    "    \n",
    "    return end"
   ]
  },
  {
   "cell_type": "markdown",
   "metadata": {},
   "source": [
    "### 4. 两个链表的第一个公共节点\n",
    "\n",
    "#### 输入两个链表，找出它们的第一个公共节点"
   ]
  },
  {
   "cell_type": "markdown",
   "metadata": {},
   "source": [
    "#### 思路：双指针法\n",
    "\n",
    "#### $ a + b + c = b + c + a$\n",
    "\n",
    "- `node1`和`node2`分别指向`headA`和`headB`\n",
    "\n",
    "- 同时移动两个指针，当`node1`到达链表1的结尾时，将其指向链表2的头； `node2`操作相同\n",
    "\n",
    "- 最终两个指针将在第一个公共节点相遇"
   ]
  },
  {
   "cell_type": "code",
   "execution_count": 70,
   "metadata": {},
   "outputs": [],
   "source": [
    "# Definition for singly-linked list.\n",
    "# class ListNode:\n",
    "#     def __init__(self, x):\n",
    "#         self.val = x\n",
    "#         self.next = None\n"
   ]
  },
  {
   "cell_type": "code",
   "execution_count": 71,
   "metadata": {},
   "outputs": [],
   "source": [
    "def getIntersectionNode(headA, headB):\n",
    "    \n",
    "    if not headA or not headB:\n",
    "        return None\n",
    "    \n",
    "    node1, node2 = headA, headB\n",
    "    \n",
    "    while node1 != node2:\n",
    "        \n",
    "        node1 = node1.next if node1 else headB\n",
    "        node2 = node2.next if node2 else headA\n",
    "    \n",
    "    return node1"
   ]
  },
  {
   "cell_type": "markdown",
   "metadata": {},
   "source": [
    "### 5. 删除链表的节点\n",
    "\n",
    "#### 给定单向链表的头指针和一个要删除的节点的值，定义一个函数删除该节点。\n",
    "\n",
    "#### 返回删除后的链表的头节点。"
   ]
  },
  {
   "cell_type": "markdown",
   "metadata": {},
   "source": [
    "#### 思路：双指针法，定位节点，修改引用\n",
    "\n",
    "- 特判：`head.val == target`, 返回`head.next`\n",
    "\n",
    "- 初始化指针`pre` 指向`head`, 指针`cur`指向`head.next`\n",
    "\n",
    "- 依次移动`pre`和`cur`指针，直到`cur`为空，或者`cur.val == target`\n",
    "\n",
    "- 定位到`target`的位置后，利用`pre`和`cur`删掉这个节点。"
   ]
  },
  {
   "cell_type": "code",
   "execution_count": 76,
   "metadata": {},
   "outputs": [],
   "source": [
    "# Definition for singly-linked list.\n",
    "# class ListNode:\n",
    "#     def __init__(self, x):\n",
    "#         self.val = x\n",
    "#         self.next = None"
   ]
  },
  {
   "cell_type": "code",
   "execution_count": 77,
   "metadata": {},
   "outputs": [],
   "source": [
    "def deleteNode(head, val):\n",
    "    \n",
    "    if head.val == val:\n",
    "        return head.next \n",
    "    \n",
    "    pre = head\n",
    "    cur = head.next\n",
    "    \n",
    "    while cur:\n",
    "        if cur.val == val:\n",
    "            pre.next = cur.next\n",
    "            return head \n",
    "        pre, cur = cur, cur.next \n",
    "    \n",
    "    return head"
   ]
  },
  {
   "cell_type": "markdown",
   "metadata": {},
   "source": [
    "## Part V: 树"
   ]
  },
  {
   "cell_type": "code",
   "execution_count": 80,
   "metadata": {},
   "outputs": [],
   "source": [
    "# Definition for a binary tree node.\n",
    "# class TreeNode:\n",
    "#     def __init__(self, x):\n",
    "#         self.val = x\n",
    "#         self.left = None\n",
    "#         self.right = None"
   ]
  },
  {
   "cell_type": "markdown",
   "metadata": {},
   "source": [
    "### 1. 二叉搜索树的第k大节点\n",
    "\n",
    "#### 给定一棵二叉搜索树，请找出其中第k大的节点。"
   ]
  },
  {
   "cell_type": "markdown",
   "metadata": {},
   "source": [
    "#### 思路：中序遍历二叉树，得到的是一个不减的序列\n",
    "#### 二叉搜索树BST的性质：\n",
    " - 若任意节点的左子树不为空，则左子树上所有节点的值均小于根结点的值\n",
    " - 若任意节点的右子树不为空，则右子树上所有节点的值均大于等于根结点的值\n",
    " - 任意节点的左右子树也分别为二叉搜索树\n",
    "\n",
    "#### 利用递归，遍历二叉树\n",
    "\n",
    "#### 提前结束：\n",
    "- 递归遍历时计数，统计当前节点的序号\n",
    "- 递归到第k个节点时，直接返回，提前结束。"
   ]
  },
  {
   "cell_type": "code",
   "execution_count": 8,
   "metadata": {},
   "outputs": [],
   "source": [
    "## 没有提前结束\n",
    "\n",
    "def kthLargest(root, k):\n",
    "    \n",
    "    if not root:\n",
    "        return \n",
    "    \n",
    "    sequence = []\n",
    "    \n",
    "    traverse(root, sequence)\n",
    "    \n",
    "    return sequence[k-1]\n",
    "\n",
    "\n",
    "def traverse(root, res):\n",
    "    \n",
    "    if not root:\n",
    "        return \n",
    "    \n",
    "    self.traverse(root.right, res)\n",
    "    res.append(root.val)\n",
    "    self.traverse(root.left, res)"
   ]
  },
  {
   "cell_type": "code",
   "execution_count": 9,
   "metadata": {},
   "outputs": [],
   "source": [
    "## 提前结束\n",
    "\n",
    "def kthLargest(root, k):\n",
    "\n",
    "    def traverse(root):\n",
    "        if not root:\n",
    "            return \n",
    "        traverse(root.right)\n",
    "        if self.k == 0:\n",
    "            return \n",
    "        self.k -=1 \n",
    "        if self.k == 0:\n",
    "            self.res = root.val \n",
    "        traverse(root.left)\n",
    "\n",
    "    self.k = k \n",
    "\n",
    "    traverse(root)\n",
    "\n",
    "    return self.res"
   ]
  },
  {
   "cell_type": "markdown",
   "metadata": {},
   "source": [
    "### 2. 二叉树的最近公共祖先\n",
    "\n",
    "#### 给定一个二叉树，找到该树中两个指定节点的最近公共祖先\n",
    "\n",
    "#### 对于有根树 T 的两个结点 p、q，最近公共祖先表示为一个结点 x，满足 x 是 p、q 的祖先且 x 的深度尽可能大（一个节点也可以是它自己的祖先）。"
   ]
  },
  {
   "cell_type": "markdown",
   "metadata": {},
   "source": [
    "#### 思路：分治\n",
    "\n",
    "#### `root`为节点`p`, `q`的最近公共祖先，可能有以下三种情况：\n",
    "- `p`,`q`分别再`root`的左右子树中；\n",
    "- `p = root`, `q`在`p`的左/右子树中；\n",
    "- `q = root`, `p`在`q`的左/右子树中\n",
    "\n",
    "#### 通过递归实现分治\n",
    "- 终止条件:\n",
    "   - 越过叶节点，返回null\n",
    "   - 当`root` = `p`或 `q` , 返回`root`\n",
    "   \n",
    "- 递归过程：\n",
    "   - 递归左子树，返回值为`left`\n",
    "   - 递归右子树，返回值为`right`\n",
    "   \n",
    "- 返回值：\n",
    "   - If `left = null` and `right = null`: 说明`p`和`q`不在root的子树中，返回`null`\n",
    "   \n",
    "   - If `left != null` and `right != null`: 说明`p`和`q`在root的两侧，返回`root`\n",
    "   \n",
    "   - If `left != null` and `right = null`: 说明`p`和`q`不在root的右子树中，返回`left`\n",
    "   \n",
    "   - If `left = null` and `right != null`: 同上，返回`right`"
   ]
  },
  {
   "cell_type": "code",
   "execution_count": 3,
   "metadata": {},
   "outputs": [],
   "source": [
    "def lowestCommonAncestor(root, p, q):\n",
    "\n",
    "    if not root or root == p or root == q:\n",
    "        return root \n",
    "\n",
    "    left = lowestCommonAncestor(root.left, p, q)\n",
    "    right = lowestCommonAncestor(root.right, p, q)\n",
    "\n",
    "    if not left:\n",
    "        return right \n",
    "    if not right:\n",
    "        return left\n",
    "    return root"
   ]
  },
  {
   "cell_type": "markdown",
   "metadata": {},
   "source": [
    "### 3. 二叉搜索树的最近公共祖先\n",
    "\n",
    "\n",
    "#### 给定一个二叉搜索树, 找到该树中两个指定节点的最近公共祖先。\n",
    "\n",
    "#### 说明：所有节点的值都是唯一的。p、q 为不同节点且均存在于给定的二叉搜索树中。\n"
   ]
  },
  {
   "cell_type": "markdown",
   "metadata": {},
   "source": [
    "#### 思路：利用二叉搜索树的性质（且题目规定所有节点值唯一）\n",
    "\n",
    "- 若 $root.val < p.val$, 则$p$在$root$的右子树中\n",
    "\n",
    "- 若 $root.val > p.val$, 则$p$在$root$的左子树中\n",
    "\n",
    "- 若 $root.val = p.val$, 则$p = root$\n",
    "\n",
    "#### 递归：\n",
    "\n",
    "- 若`p`和`q`均在`root`的左（右）子树中，递归左（右）子树\n",
    "\n",
    "- 若`p`和`q`在`root`的两侧，返回`root`"
   ]
  },
  {
   "cell_type": "code",
   "execution_count": null,
   "metadata": {},
   "outputs": [],
   "source": [
    "def lowestCommonAncestor(root, p, q):\n",
    "\n",
    "    if root.val > p.val and root.val > q.val:\n",
    "        return lowestCommonAncestor(root.left, p, q)\n",
    "    \n",
    "    if root.val < p.val and root.val < q.val:\n",
    "        return lowestCommonAncestor(root.right, p, q)\n",
    "    \n",
    "    return root"
   ]
  },
  {
   "cell_type": "markdown",
   "metadata": {},
   "source": [
    "### 4. 二叉树的深度\n",
    "\n",
    "#### 输入一棵二叉树的根节点，求该树的深度。\n",
    "#### 从根节点到叶节点依次经过的节点（含根、叶节点）形成树的一条路径，最长路径的长度为树的深度。"
   ]
  },
  {
   "cell_type": "markdown",
   "metadata": {},
   "source": [
    "#### 思路一：分治，利用递归\n",
    "\n",
    "#### 一棵树的深度 = max(左子树深度，右子树深度) + 1 \n",
    "\n",
    "#### 思路二：层次遍历（BFS)\n",
    "\n",
    "#### 需要记录层数，每遍历一层，计数器 $+1$"
   ]
  },
  {
   "cell_type": "code",
   "execution_count": 58,
   "metadata": {},
   "outputs": [],
   "source": [
    "### 分治\n",
    "\n",
    "def maxDepth(root):\n",
    "    \n",
    "    if not root:\n",
    "        return 0 \n",
    "    \n",
    "    leftmax = maxDepth(root.left)\n",
    "    rightmax = maxDepth(root.right)\n",
    "    \n",
    "    return max(leftmax, rightmax) + 1"
   ]
  },
  {
   "cell_type": "code",
   "execution_count": 61,
   "metadata": {},
   "outputs": [],
   "source": [
    "### BFS\n",
    "\n",
    "from collections import deque\n",
    "\n",
    "def maxDepth(root):\n",
    "    \n",
    "    if not root:\n",
    "        return 0 \n",
    "    \n",
    "    queue = deque([root])\n",
    "    count = 0 \n",
    "    \n",
    "    while queue:\n",
    "        \n",
    "        count += 1 \n",
    "        \n",
    "        for _ in range(len(queue)):\n",
    "            \n",
    "            head = queue.popleft()\n",
    "            \n",
    "            if head.left:\n",
    "                queue.append(head.left)\n",
    "            if head.right:\n",
    "                queue.append(head.right)\n",
    "    \n",
    "    return count"
   ]
  },
  {
   "cell_type": "markdown",
   "metadata": {},
   "source": [
    "### 5. 二叉树的镜像\n",
    "\n",
    "#### 请完成一个函数，输入一个二叉树，该函数输出它的镜像。"
   ]
  },
  {
   "cell_type": "markdown",
   "metadata": {},
   "source": [
    "#### 思路一：递归遍历二叉树\n",
    "\n",
    "#### 思路二：分治"
   ]
  },
  {
   "cell_type": "code",
   "execution_count": 68,
   "metadata": {},
   "outputs": [],
   "source": [
    "### 递归遍历\n",
    "\n",
    "def mirrorTree(root):\n",
    "    \n",
    "    if not root:\n",
    "        return root\n",
    "    \n",
    "    root.left, root.right = mirrorTree(root.right), mirrorTree(root.left)\n",
    "    \n",
    "    return root"
   ]
  },
  {
   "cell_type": "code",
   "execution_count": 69,
   "metadata": {},
   "outputs": [],
   "source": [
    "### 分治\n",
    "\n",
    "def mirrorTree(root):\n",
    "    \n",
    "    if not root:\n",
    "        return root\n",
    "    \n",
    "    left = self.mirrorTree(root.left)\n",
    "    right = self.mirrorTree(root.right)\n",
    "    \n",
    "    root.left = right\n",
    "    root.right = left\n",
    "    \n",
    "    return root"
   ]
  },
  {
   "cell_type": "markdown",
   "metadata": {},
   "source": [
    "### 6. 从上到下打印二叉树\n",
    "\n",
    "#### 从上到下按层打印二叉树，同一层的节点按从左到右的顺序打印，每一层打印到一行。"
   ]
  },
  {
   "cell_type": "markdown",
   "metadata": {},
   "source": [
    "#### 思路：BFS，且与层数有关，每一层要单独记录"
   ]
  },
  {
   "cell_type": "code",
   "execution_count": 73,
   "metadata": {},
   "outputs": [],
   "source": [
    "from collections import deque\n",
    "\n",
    "def levelOrder(root):\n",
    "    \n",
    "    if not root:\n",
    "        return []\n",
    "    \n",
    "    queue = deque([root])\n",
    "    results = []\n",
    "    \n",
    "    while queue:\n",
    "        \n",
    "        level = []\n",
    "        \n",
    "        for _ in range(len(queue)):\n",
    "            node = queue.popleft()\n",
    "            level.append(node.val)\n",
    "            if node.left:\n",
    "                queue.append(node.left)\n",
    "            if node.right:\n",
    "                queue.append(node.right)\n",
    "        \n",
    "        results.append(level)\n",
    "    \n",
    "    return results"
   ]
  },
  {
   "cell_type": "markdown",
   "metadata": {},
   "source": [
    "### 7. 对称的二叉树\n",
    "\n",
    "#### 请实现一个函数，用来判断一棵二叉树是不是对称的。如果一棵二叉树和它的镜像一样，那么它是对称的。\n",
    "\n",
    "#### 例如，二叉树 [1,2,2,3,4,4,3] 是对称的。"
   ]
  },
  {
   "cell_type": "markdown",
   "metadata": {},
   "source": [
    "#### 思路：递归\n",
    "\n",
    "#### 若两个节点`L` 和`R`对称，则有：\n",
    "\n",
    "- `L.val == R.val`\n",
    "\n",
    "- `L.left.val == R.right.val`\n",
    "\n",
    "- `L.right.val == R.left.val`\n",
    "\n",
    "#### 从上至下递归每个节点即可"
   ]
  },
  {
   "cell_type": "code",
   "execution_count": 79,
   "metadata": {},
   "outputs": [],
   "source": [
    "def isSymmetric(root):\n",
    "    \n",
    "    if not root:\n",
    "        return True \n",
    "    \n",
    "    return helper(root.left, root.right)\n",
    "\n",
    "def helper(left, right):\n",
    "    \n",
    "    if not left and not right:\n",
    "        return True\n",
    "    \n",
    "    if not left or not right or left.val != right.val:\n",
    "        return False \n",
    "    \n",
    "    return helper(left.left, right.right) and helper(left.right, right.left)"
   ]
  },
  {
   "cell_type": "markdown",
   "metadata": {},
   "source": [
    "### 8. 平衡二叉树\n",
    "\n",
    "#### 输入一棵二叉树的根节点，判断该树是不是平衡二叉树。\n",
    "#### 如果某二叉树中任意节点的左右子树的深度相差不超过1，那么它就是一棵平衡二叉树。"
   ]
  },
  {
   "cell_type": "markdown",
   "metadata": {},
   "source": [
    "#### 思路：\n",
    "\n",
    "#### 分治，计算二叉树的深度\n",
    "\n",
    "- 二叉树的深度 = MAX(左子树的深度，右子树的深度) + 1\n",
    "\n",
    "#### 提前结束\n",
    "\n",
    "- 如果左子树 / 右子树不是平衡二叉树，则整棵树也不是平衡二叉树"
   ]
  },
  {
   "cell_type": "code",
   "execution_count": 81,
   "metadata": {},
   "outputs": [],
   "source": [
    "def isBalanced(root):\n",
    "    \n",
    "    return treeDepth(root) != -1 \n",
    "\n",
    "def treeDepth(root):\n",
    "    \n",
    "    if not root:\n",
    "        return 0 \n",
    "    \n",
    "    leftDepth = treeDepth(root.left)\n",
    "    if leftDepth == -1:\n",
    "        return -1 \n",
    "    \n",
    "    rightDepth = treeDepth(root.right)\n",
    "    if rightDepth == -1:\n",
    "        return -1 \n",
    "    \n",
    "    if abs(leftDepth - rightDepth) > 1:\n",
    "        return -1\n",
    "    else:\n",
    "        return max(leftDepth, rightDepth) + 1"
   ]
  },
  {
   "cell_type": "markdown",
   "metadata": {},
   "source": [
    "## Part VI: 其他"
   ]
  },
  {
   "cell_type": "markdown",
   "metadata": {},
   "source": [
    "### 1. 不用加减乘除做加法\n",
    "\n",
    "#### 写一个函数，求两个整数之和，要求在函数体内不得使用 “+”、“-”、“*”、“/” 四则运算符号。"
   ]
  },
  {
   "cell_type": "markdown",
   "metadata": {},
   "source": [
    "#### 思路：位运算\n",
    "#### $s = a + b$, $a(i)$ 表示$a$ 的二进制第$i$位， 则\n",
    "\n",
    "\n",
    "| a(i)  | b(i)  | 无进位和n(i) | 进位c(i+1)  |\n",
    "|-------|-------|----------------|-------------|\n",
    "|   0   |   0   |        0       |      0      |\n",
    "|   0   |   1   |        1       |      0      |\n",
    "|   1   |   0   |        1       |      0      |\n",
    "|   1   |   1   |        0       |      1      |\n",
    "\n",
    "#### `无进位和`与`异或运算`规律相同；`进位和`与`与运算`规律相同（并需要左移一位）\n",
    "\n",
    "$$\\left \\{\n",
    "\\begin{aligned}\n",
    "&n = a \\oplus b \\\\\n",
    "&c = a \\& b << 1\n",
    "\\end{aligned}\n",
    "\\right.\n",
    "$$\n",
    "\n",
    "$$s = a + b \\Rightarrow s = n + c$$\n",
    "\n",
    "#### 循环求`n`和`c`,直至进位`c = 0`; 此时`s = n`,返回`n`即可\n",
    "\n",
    "- 先计算进位`c`\n",
    "\n",
    "- 计算无进位和`n`, 赋值给`a`\n",
    "\n",
    "- 将进位`c`赋值给`b`\n",
    "\n",
    "- 直到`b = 0`，跳出循环，返回`a`\n",
    "\n",
    "#### 对于负数：计算机系统中用补码来存储数值，加法、减法可以统一处理。\n",
    "\n",
    "- 在Python中获取负数的补码，需要将数字与十六进制数`0xffffffff`相与\n",
    "\n",
    "- 返回前再将数字还原。\n",
    "  - 若补码`a`为负数( `a > 0x7fffffff`), 需执行 `~ (a ^ x)`,将补码还原至Python的存储格式。\n",
    "  - 若补码`a`为正数，直接返回`a`\n"
   ]
  },
  {
   "cell_type": "code",
   "execution_count": 1,
   "metadata": {},
   "outputs": [],
   "source": [
    "def add(a, b):\n",
    "    \n",
    "    x = 0xffffffff\n",
    "    a, b = a & x, b & x\n",
    "    \n",
    "    while b != 0:\n",
    "        a, b = (a ^ b), (a & b) << 1 & x\n",
    "    \n",
    "    if a <= 0x7fffffff:\n",
    "        return a \n",
    "    else:\n",
    "        return ~(a ^ x)"
   ]
  },
  {
   "cell_type": "code",
   "execution_count": 2,
   "metadata": {},
   "outputs": [
    {
     "data": {
      "text/plain": [
       "37"
      ]
     },
     "execution_count": 2,
     "metadata": {},
     "output_type": "execute_result"
    }
   ],
   "source": [
    "a = 20\n",
    "b= 17\n",
    "add(a, b)"
   ]
  },
  {
   "cell_type": "markdown",
   "metadata": {},
   "source": [
    "### 2. 二进制中1的个数\n",
    "\n",
    "#### 请实现一个函数，输入一个整数，输出该数二进制表示中 1 的个数。\n",
    "#### 例如，把 9 表示成二进制是 1001，有 2 位是 1。因此，如果输入 9，则该函数输出 2。\n"
   ]
  },
  {
   "cell_type": "markdown",
   "metadata": {},
   "source": [
    "#### 思路：位运算\n",
    "\n",
    "- $n \\& 1 = 0 \\Rightarrow$ $n$的二进制最后一位为0\n",
    "\n",
    "- $n \\& 1 = 1 \\Rightarrow$ $n$的二进制最后一位为1\n",
    "\n",
    "#### 通过按位与和右移的操作依次判断每一位是否为1"
   ]
  },
  {
   "cell_type": "code",
   "execution_count": 84,
   "metadata": {},
   "outputs": [],
   "source": [
    "def hammingWeight(n):\n",
    "    \n",
    "    count = 0\n",
    "    \n",
    "    while n:\n",
    "        count += (n&1)\n",
    "        n >>= 1\n",
    "    \n",
    "    return count"
   ]
  },
  {
   "cell_type": "code",
   "execution_count": 85,
   "metadata": {
    "scrolled": true
   },
   "outputs": [
    {
     "data": {
      "text/plain": [
       "1"
      ]
     },
     "execution_count": 85,
     "metadata": {},
     "output_type": "execute_result"
    }
   ],
   "source": [
    "hammingWeight(4)"
   ]
  }
 ],
 "metadata": {
  "kernelspec": {
   "display_name": "Python 3",
   "language": "python",
   "name": "python3"
  },
  "language_info": {
   "codemirror_mode": {
    "name": "ipython",
    "version": 3
   },
   "file_extension": ".py",
   "mimetype": "text/x-python",
   "name": "python",
   "nbconvert_exporter": "python",
   "pygments_lexer": "ipython3",
   "version": "3.7.3"
  }
 },
 "nbformat": 4,
 "nbformat_minor": 2
}
