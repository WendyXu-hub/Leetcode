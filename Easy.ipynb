{
 "cells": [
  {
   "cell_type": "markdown",
   "metadata": {},
   "source": [
    "## Level: Easy"
   ]
  },
  {
   "cell_type": "markdown",
   "metadata": {},
   "source": [
    "#### 题目来源：力扣（LeetCode） 链接：https://leetcode-cn.com/problemset/lcof/?difficulty=%E7%AE%80%E5%8D%95"
   ]
  },
  {
   "cell_type": "markdown",
   "metadata": {},
   "source": [
    "## Part I: 数组"
   ]
  },
  {
   "cell_type": "markdown",
   "metadata": {},
   "source": [
    "### <mark>1.  圆圈中最后剩下的数 —— 约瑟夫环</mark>\n",
    "#### 0,1...n-1这n个数字排成一个圆圈，从数字0开始，每次从这个圆圈里删除第m个数字。求出这个圆圈里剩下的最后一个数字。\n",
    "#### 例如，0、1、2、3、4这5个数字组成一个圆圈，从数字0开始每次删除第3个数字，则删除的前4个数字依次是2、0、4、1，因此最后剩下的数字是3。"
   ]
  },
  {
   "cell_type": "markdown",
   "metadata": {},
   "source": [
    "#### 思路： 递归\n",
    "\n",
    "#### $F(n,m):$ under (n,m) setting, the index of the last existing number (i.e., the left number here).\n",
    "\n",
    "#### I. For (n,m) setting, the first number we delete is the number with index $m\\%n $\n",
    "\n",
    " - for (5,3) setting, the first number we delete is the third one ($3%5 =3)$ with index 2 ($3-1=2$)\n",
    "\n",
    "#### II. Then the original circle becomes the a new one with length $n-1$. \n",
    "\n",
    "#### Suppose we know the index of the last existing number when the sequence length is $(n-1)$, which is $X = F(n-1,m)$\n",
    "\n",
    " - for (5,3) setting, $F(4,3) = 0$\n",
    "\n",
    "#### III. Then $F(n,m)$ should be the $X^{th}$ starting from $m\\%n$: $F(n,m) = [m\\%n + F(n-1,m)] \\%n$\n",
    "\n",
    " - for (5,3) setting, $F(5,3) = [3\\% 5 + F(4,3)] \\% 5 = 3$"
   ]
  },
  {
   "cell_type": "code",
   "execution_count": 1,
   "metadata": {},
   "outputs": [],
   "source": [
    "def lastRemaining(n, m):\n",
    "\n",
    "    f = 0 \n",
    "\n",
    "    for i in range(2, n+1):\n",
    "        f = (m % i + f) % i  \n",
    "\n",
    "    return f   "
   ]
  },
  {
   "cell_type": "code",
   "execution_count": 2,
   "metadata": {},
   "outputs": [
    {
     "data": {
      "text/plain": [
       "3"
      ]
     },
     "execution_count": 2,
     "metadata": {},
     "output_type": "execute_result"
    }
   ],
   "source": [
    "n, m = 5, 3\n",
    "lastRemaining(n,m)"
   ]
  },
  {
   "cell_type": "markdown",
   "metadata": {},
   "source": [
    "### <mark>2. 和为s的连续正数序列 </mark>\n",
    "\n",
    "#### 输入一个正整数 target ，输出所有和为 target 的连续正整数序列（至少含有两个数）。\n",
    "\n",
    "#### 序列内的数字由小到大排列，不同序列按照首个数字从小到大排列。\n",
    "\n"
   ]
  },
  {
   "cell_type": "markdown",
   "metadata": {},
   "source": [
    "#### 思路：数学题，连续数列求和\n",
    "\n",
    "#### Sum of k consecutive numbers: $x + (x+1) + ... + (x+k-1) = \\frac{(2x+k-1)k}{2} = T$\n",
    "\n",
    "#### Some constraints from question setting:\n",
    "\n",
    " - $x \\ge 1 \\Rightarrow 2x-1 \\ge 1 \\Rightarrow 2x-1+k > k \\Rightarrow (2x+k-1)k > k^2 \\Rightarrow k < \\sqrt{2T}$\n",
    " \n",
    " - $ k \\ge 2$\n",
    "\n",
    "#### Make sure that $2T$ can be seperated as $(2x+k-1)k$:\n",
    "\n",
    "- $2T$ is divisible by k\n",
    "\n",
    "- $\\frac{2T}{k} - k = 2x-1$ is an odd number."
   ]
  },
  {
   "cell_type": "code",
   "execution_count": 3,
   "metadata": {},
   "outputs": [],
   "source": [
    "import math\n",
    "\n",
    "def findContinuousSequence(target):\n",
    "\n",
    "\n",
    "    res = []\n",
    "\n",
    "    a = 2 * target \n",
    "    k = int(math.sqrt(a))\n",
    "\n",
    "    while k > 1:\n",
    "        if a % k == 0 and (a / k - k) % 2 == 1:\n",
    "            start = int((a / k - k + 1 ) / 2)\n",
    "            temp = [x for x in range(start, start + k)]\n",
    "            res.append(temp) \n",
    "        k -= 1 \n",
    "\n",
    "    return res"
   ]
  },
  {
   "cell_type": "code",
   "execution_count": 4,
   "metadata": {},
   "outputs": [
    {
     "data": {
      "text/plain": [
       "[[1, 2, 3, 4, 5], [4, 5, 6], [7, 8]]"
      ]
     },
     "execution_count": 4,
     "metadata": {},
     "output_type": "execute_result"
    }
   ],
   "source": [
    "target = 15\n",
    "findContinuousSequence(target)"
   ]
  },
  {
   "cell_type": "markdown",
   "metadata": {},
   "source": [
    "### <mark>3. 数组中重复的数字</mark>\n",
    "\n",
    "#### 在一个长度为 n 的数组 nums 里的所有数字都在 0～n-1 的范围内。\n",
    "#### 数组中某些数字是重复的，但不知道有几个数字重复了，也不知道每个数字重复了几次。请找出数组中`任意一个`重复的数字。\n"
   ]
  },
  {
   "cell_type": "markdown",
   "metadata": {},
   "source": [
    "#### 思路一： 哈希表 (需要使用额外空间)\n",
    "\n",
    "#### 思路二：下标定位法 (利用数组在0 ~ n-1的范围这个条件，不需要使用额外空间)\n",
    "\n",
    "#### Since all numbers in `nums` are in 0 ~ n-1, we can traverse the sequence and make `nums[i] = i` by using swapping. \n",
    "#### Then when we get into the number `x` at the second time, we must have `nums[x] = x`. So just return `x` under this circumstance. "
   ]
  },
  {
   "cell_type": "code",
   "execution_count": 5,
   "metadata": {},
   "outputs": [],
   "source": [
    "def findRepeatNumber(nums):\n",
    "    \n",
    "    hash = {}\n",
    "    \n",
    "    for num in nums:\n",
    "        if num not in hash:\n",
    "            hash[num] = 1 \n",
    "        else:\n",
    "            return num \n",
    "    \n",
    "    return -1"
   ]
  },
  {
   "cell_type": "code",
   "execution_count": 6,
   "metadata": {},
   "outputs": [
    {
     "data": {
      "text/plain": [
       "2"
      ]
     },
     "execution_count": 6,
     "metadata": {},
     "output_type": "execute_result"
    }
   ],
   "source": [
    "nums = [2, 3, 1, 0, 2, 5, 3]\n",
    "findRepeatNumber(nums)"
   ]
  },
  {
   "cell_type": "code",
   "execution_count": 12,
   "metadata": {},
   "outputs": [],
   "source": [
    "def findRepeatNumber(nums):\n",
    "    \n",
    "    i = 0\n",
    "    \n",
    "    while i < len(nums):\n",
    "        \n",
    "        if nums[i] == i:\n",
    "            i += 1 \n",
    "            continue\n",
    "        \n",
    "        if nums[nums[i]] == nums[i]:\n",
    "            return nums[i]\n",
    "        \n",
    "        nums[nums[i]], nums[i] = nums[i], nums[nums[i]]\n",
    "        ## Note: cannot be written as nums[i], nums[nums[i]] = nums[nums[i]], nums[i]\n",
    "    \n",
    "    return -1"
   ]
  },
  {
   "cell_type": "markdown",
   "metadata": {},
   "source": [
    "#### When swapping two numbers we cannot use `nums[i], nums[nums[i]] = nums[nums[i]], nums[i]` here, because:\n",
    "- In Python, `a,b = c,d` works by first saving tuple `(c,d)` and then assign c to a and d to b in order. \n",
    "- If we first change the value of `nums[i]`, then the element `nums[nums[i]]` will change too, which is not desired here. "
   ]
  },
  {
   "cell_type": "code",
   "execution_count": 13,
   "metadata": {},
   "outputs": [
    {
     "data": {
      "text/plain": [
       "2"
      ]
     },
     "execution_count": 13,
     "metadata": {},
     "output_type": "execute_result"
    }
   ],
   "source": [
    "nums = [2, 3, 1, 0, 2, 5, 3]\n",
    "findRepeatNumber(nums)"
   ]
  },
  {
   "cell_type": "markdown",
   "metadata": {},
   "source": [
    "### <mark>4. 和为s的两个数字</mark>\n",
    "\n",
    "#### 输入一个递增排序的数组和一个数字s，在数组中查找两个数，使得它们的和正好是s。\n",
    "#### 如果有多对数字的和等于s，则输出任意一对即可。"
   ]
  },
  {
   "cell_type": "markdown",
   "metadata": {},
   "source": [
    "#### 思路：双指针法 — 利用这个数组递增的性质。\n",
    "-  `left`从最左开始，`right`从最右开始\n",
    "-  如果`nums[left]` + `nums[right]` > target: right -= 1 \n",
    "-  如果`nums[left]` + `nums[right]` < target: left += 1"
   ]
  },
  {
   "cell_type": "code",
   "execution_count": 19,
   "metadata": {},
   "outputs": [],
   "source": [
    "def twoSum(nums, target):\n",
    "    \n",
    "    left, right = 0, len(nums)-1\n",
    "    \n",
    "    while left < right:\n",
    "        s = nums[left] + nums[right]\n",
    "        if s == target:\n",
    "            return [nums[left], nums[right]]\n",
    "        if s > target:\n",
    "            right -= 1 \n",
    "        else:\n",
    "            left += 1 \n",
    "    \n",
    "    return None "
   ]
  },
  {
   "cell_type": "code",
   "execution_count": 20,
   "metadata": {},
   "outputs": [
    {
     "data": {
      "text/plain": [
       "[2, 7]"
      ]
     },
     "execution_count": 20,
     "metadata": {},
     "output_type": "execute_result"
    }
   ],
   "source": [
    "nums = [2,7,11,15]\n",
    "target = 9\n",
    "twoSum(nums,target)"
   ]
  },
  {
   "cell_type": "markdown",
   "metadata": {},
   "source": [
    "### <mark>5.扑克牌中的顺子</mark>\n",
    "\n",
    "#### 从扑克牌中随机抽5张牌，判断是不是一个顺子，即这5张牌是不是连续的。\n",
    "#### 2～10为数字本身，A为1，J为11，Q为12，K为13，而大、小王为 0 ，可以看成任意数字。A 不能视为 14。"
   ]
  },
  {
   "cell_type": "markdown",
   "metadata": {},
   "source": [
    "#### 思路：难点在于0可以当作任意数字。\n",
    "#### 构成顺子的充要条件：\n",
    "- 所有数字中除0之外，不能有重复；同时，\n",
    "- 最大数字 - 最小数字 < 5"
   ]
  },
  {
   "cell_type": "code",
   "execution_count": 1,
   "metadata": {},
   "outputs": [],
   "source": [
    "def isStraight(nums):\n",
    "    \n",
    "    seen = []\n",
    "    maximum = 0\n",
    "    minimum = 14\n",
    "    \n",
    "    for num in nums:\n",
    "        if num == 0:\n",
    "            continue\n",
    "        if num in seen:\n",
    "            return False \n",
    "        seen.append(num)\n",
    "        \n",
    "        maximum = max(maximum, num)\n",
    "        minimum = min(minimum, num)\n",
    "    \n",
    "    return maximum - minimum < 5"
   ]
  },
  {
   "cell_type": "code",
   "execution_count": 3,
   "metadata": {},
   "outputs": [
    {
     "data": {
      "text/plain": [
       "True"
      ]
     },
     "execution_count": 3,
     "metadata": {},
     "output_type": "execute_result"
    }
   ],
   "source": [
    "nums = [0,0,1,2,5]\n",
    "isStraight(nums)"
   ]
  },
  {
   "cell_type": "markdown",
   "metadata": {},
   "source": [
    "### <mark>6. 青蛙跳台阶问题</mark>\n",
    "\n",
    "#### 一只青蛙一次可以跳上1级台阶，也可以跳上2级台阶。求该青蛙跳上一个 n 级的台阶总共有多少种跳法。\n",
    "\n",
    "#### 答案需要取模 1e9+7（1000000007），如计算初始结果为：1000000008，请返回 1。\n",
    "\n"
   ]
  },
  {
   "cell_type": "markdown",
   "metadata": {},
   "source": [
    "#### 思路：Dynamic Programming\n",
    "\n",
    "#### `f(n)`: 跳n级台阶的跳法总数\n",
    "\n",
    "- $f(0) = 1$ initialization\n",
    "\n",
    "- $f(1) = 1$\n",
    "\n",
    "- $f(n) = f(n-1) + f(n-2), n \\ge 2$"
   ]
  },
  {
   "cell_type": "code",
   "execution_count": 6,
   "metadata": {},
   "outputs": [],
   "source": [
    "def numWays(n):\n",
    "    \n",
    "    if n == 0:\n",
    "        return 1 \n",
    "    \n",
    "    dp = [0] * (n+1)\n",
    "    \n",
    "    dp[0], dp[1] = 1,1\n",
    "    \n",
    "    for i in range(2, n+1):\n",
    "        dp[i] = dp[i-1] + dp[i-2]\n",
    "    \n",
    "    return dp[n] % 1000000007"
   ]
  },
  {
   "cell_type": "code",
   "execution_count": 7,
   "metadata": {},
   "outputs": [
    {
     "data": {
      "text/plain": [
       "21"
      ]
     },
     "execution_count": 7,
     "metadata": {},
     "output_type": "execute_result"
    }
   ],
   "source": [
    "n = 7\n",
    "numWays(n)"
   ]
  },
  {
   "cell_type": "markdown",
   "metadata": {},
   "source": [
    "### <mark>7. 连续子数组的最大和</mark>\n",
    "\n",
    "#### 输入一个整型数组，数组里有正数也有负数。数组中的一个或连续多个整数组成一个子数组。求所有子数组的和的最大值。\n",
    "\n",
    "#### 要求时间复杂度为O(n)。"
   ]
  },
  {
   "cell_type": "markdown",
   "metadata": {},
   "source": [
    "#### 思路：Dynamic Programming\n",
    "\n",
    "#### $f(i):$ 以`nums[i]`结尾的子数组的最大和\n",
    "\n",
    "- $f(0) = nums[0]$\n",
    "\n",
    "- $f(n) = max(f(n-1)+nums[n], nums[n])$\n",
    "\n",
    "- 所求为$max(f(i))$\n",
    "\n",
    "#### 子数组定义：数组中一个或多个<mark>连续</mark>数组"
   ]
  },
  {
   "cell_type": "code",
   "execution_count": 10,
   "metadata": {},
   "outputs": [],
   "source": [
    "def maxSubArray(nums):\n",
    "    \n",
    "    if not nums:\n",
    "        return 0 \n",
    "    \n",
    "    dp = [0] * len(nums)\n",
    "    \n",
    "    dp[0] = nums[0]\n",
    "    \n",
    "    for i in range(1, len(nums)):\n",
    "        dp[i] = max(dp[i-1]+nums[i], nums[i])\n",
    "    \n",
    "    return max(dp)"
   ]
  },
  {
   "cell_type": "code",
   "execution_count": 11,
   "metadata": {},
   "outputs": [
    {
     "data": {
      "text/plain": [
       "6"
      ]
     },
     "execution_count": 11,
     "metadata": {},
     "output_type": "execute_result"
    }
   ],
   "source": [
    "nums = [-2,1,-3,4,-1,2,1,-5,4]\n",
    "maxSubArray(nums)"
   ]
  },
  {
   "cell_type": "markdown",
   "metadata": {},
   "source": [
    "### <mark> 8. 顺时针打印矩阵</mark>\n",
    "\n",
    "#### 输入一个矩阵，按照从外向里以顺时针的顺序依次打印出每一个数字。"
   ]
  },
  {
   "cell_type": "markdown",
   "metadata": {},
   "source": [
    "#### 思路：设定边界\n",
    "\n",
    "- 设定上`t`、下`b`、左`l`、右`r` 四个边界。\n",
    "- 模拟从左向右、从上向下、从右向左、从下向上的顺时针顺序依次打印数字\n",
    "- 根据边界打印，将元素加入结果列表\n",
    "- 一条边界打印完，边界向内收缩1\n",
    "- 判断是否打印完毕的条件是，边界是否相遇。\n"
   ]
  },
  {
   "cell_type": "code",
   "execution_count": 5,
   "metadata": {},
   "outputs": [],
   "source": [
    "def spiralOrder(matrix):\n",
    "    \n",
    "    if not matrix:\n",
    "        return \n",
    "    \n",
    "    l, r, t, b = 0, len(matrix[0])-1, 0, len(matrix)-1\n",
    "    res = []\n",
    "    \n",
    "    while 1:\n",
    "        \n",
    "        for i in range(l, r+1):\n",
    "            res.append(matrix[t][i])\n",
    "        t += 1 \n",
    "        if t > b:\n",
    "            break\n",
    "        \n",
    "        for i in range(t, b+1):\n",
    "            res.append(matrix[i][r])\n",
    "        r -= 1 \n",
    "        if l > r:\n",
    "            break\n",
    "        \n",
    "        for i in range(r, l-1, -1):\n",
    "            res.append(matrix[b][i])\n",
    "        b -= 1\n",
    "        if t > b:\n",
    "            break\n",
    "        \n",
    "        for i in range(b, t-1, -1):\n",
    "            res.append(matrix[i][l])\n",
    "        l += 1 \n",
    "        if l > r:\n",
    "            break\n",
    "    \n",
    "    return res"
   ]
  },
  {
   "cell_type": "code",
   "execution_count": 6,
   "metadata": {},
   "outputs": [
    {
     "data": {
      "text/plain": [
       "[1, 2, 3, 4, 8, 12, 11, 10, 9, 5, 6, 7]"
      ]
     },
     "execution_count": 6,
     "metadata": {},
     "output_type": "execute_result"
    }
   ],
   "source": [
    "matrix = [[1,2,3,4],[5,6,7,8],[9,10,11,12]]\n",
    "spiralOrder(matrix)"
   ]
  },
  {
   "cell_type": "markdown",
   "metadata": {},
   "source": [
    "### <mark>9. 旋转数组的最小数字 </mark>\n",
    "\n",
    "#### 把一个数组最开始的若干个元素搬到数组的末尾，我们称之为数组的旋转。\n",
    "#### 输入一个递增排序的数组的一个旋转，输出旋转数组的最小元素。\n",
    "#### 例如，数组 [3,4,5,1,2] 为 [1,2,3,4,5] 的一个旋转，该数组的最小值为1。\n"
   ]
  },
  {
   "cell_type": "markdown",
   "metadata": {},
   "source": [
    "#### 思路：二分法\n",
    "\n",
    "#### 难点：数组中数字有重复的情况\n",
    "\n",
    "#### `i`指针指向`numbers`数组左端； `j`指针指向数组右端。$m = (i+j) //2$ 为每次二分的重点\n",
    "\n",
    "- `numbers[m] > numbers[j]`时，`m`在左排序数组中，旋转点在$[m,j]$区间，update $i = m$\n",
    "\n",
    "- `numbers[m] < numbers[j]`时，`m`在右排序数组中，旋转点在$[i,m]$区间，update $j = m$\n",
    "\n",
    "- `numbers[m] == numbers[j]`时, 可证明旋转点在$[i, j-1], $update $j = j-1$\n",
    "\n",
    "#### 不能通过比较`numbers[m]` 和`numbers[i]`来得出位置，因为有可能这个数组并没有反转，此时没有左排序数组。\n",
    "- 本质是因为`j` 的初始值肯定在右排序数组中，而`i`的初始值不一定在左排序数组中"
   ]
  },
  {
   "cell_type": "code",
   "execution_count": 7,
   "metadata": {},
   "outputs": [],
   "source": [
    "def minArray(numbers):\n",
    "    \n",
    "    if not numbers:\n",
    "        return \n",
    "    \n",
    "    start, end = 0, len(numbers)-1\n",
    "    \n",
    "    while start + 1 < end:\n",
    "        \n",
    "        mid = (start + end) // 2 \n",
    "        \n",
    "        if numbers[mid] > numbers[end]:\n",
    "            start = mid \n",
    "        elif numbers[mid] < numbers[end]:\n",
    "            end = mid \n",
    "        else:\n",
    "            end -= 1\n",
    "    \n",
    "    return min(numbers[start], numbers[end])"
   ]
  },
  {
   "cell_type": "code",
   "execution_count": 8,
   "metadata": {},
   "outputs": [
    {
     "data": {
      "text/plain": [
       "0"
      ]
     },
     "execution_count": 8,
     "metadata": {},
     "output_type": "execute_result"
    }
   ],
   "source": [
    "numbers = [2,2,2,0,1]\n",
    "minArray(numbers)"
   ]
  },
  {
   "cell_type": "markdown",
   "metadata": {},
   "source": [
    "### <mark> 10. 调整数组顺序使奇数位于偶数前面 </mark>\n",
    "\n",
    "#### 输入一个整数数组，实现一个函数来调整该数组中数字的顺序，使得所有奇数位于数组的前半部分，所有偶数位于数组的后半部分。"
   ]
  },
  {
   "cell_type": "markdown",
   "metadata": {},
   "source": [
    "#### 思路：双指针法\n",
    "\n",
    "- `start`指向数组头部， `end`指向数组尾部\n",
    "\n",
    "- `start`依次向左找到第一个偶数，`end`依次向右找到第一个奇数，交换。\n",
    "\n",
    "- 直到`start`和`end`相遇结束"
   ]
  },
  {
   "cell_type": "code",
   "execution_count": 9,
   "metadata": {},
   "outputs": [],
   "source": [
    "def exchange(nums):\n",
    "    \n",
    "    start, end = 0, len(nums)-1\n",
    "    \n",
    "    while start < end:\n",
    "        \n",
    "        while start < end and nums[start] % 2 == 1:\n",
    "            start += 1 \n",
    "        \n",
    "        while start < end and nums[end] % 2 == 0:\n",
    "            end -= 1 \n",
    "        \n",
    "        nums[start], nums[end] = nums[end], nums[start]\n",
    "    \n",
    "    return nums"
   ]
  },
  {
   "cell_type": "code",
   "execution_count": 10,
   "metadata": {},
   "outputs": [
    {
     "data": {
      "text/plain": [
       "[1, 3, 2, 4]"
      ]
     },
     "execution_count": 10,
     "metadata": {},
     "output_type": "execute_result"
    }
   ],
   "source": [
    "nums = [1,2,3,4]\n",
    "exchange(nums)"
   ]
  },
  {
   "cell_type": "markdown",
   "metadata": {},
   "source": [
    "## Part II: 栈和队列"
   ]
  },
  {
   "cell_type": "markdown",
   "metadata": {},
   "source": [
    "### <mark>1. 最小的k个数</mark>\n",
    "#### 输入整数数组 `arr` ，找出其中最小的 `k` 个数。\n",
    "#### 例如，输入4、5、1、6、2、7、3、8这8个数字，则最小的4个数字是1、2、3、4。"
   ]
  },
  {
   "cell_type": "markdown",
   "metadata": {},
   "source": [
    "#### 思路一：排序，取出前k个元素\n",
    "#### 思路二：优先队列\n",
    "#### Use Max Heap. Add the element one at a time into a heap. When the length of the heap is `k`, pop the biggest element in the heap.  \n",
    "- `heapq` in Python is a Min Heap：heapq.headpop - pop and return the samllest item from the heap\n",
    "- change `num` into `-1*num` and then use `heapq` to maintain a max heap"
   ]
  },
  {
   "cell_type": "code",
   "execution_count": 16,
   "metadata": {},
   "outputs": [],
   "source": [
    "from heapq import heappush, heappushpop\n",
    "\n",
    "def getLeastNumbers(arr, k):\n",
    "    \n",
    "    heap = []\n",
    "    \n",
    "    for num in arr:\n",
    "        if len(heap) == k:\n",
    "            heappushpop(heap, -num)\n",
    "        else:\n",
    "            heappush(heap, -num)\n",
    "    \n",
    "    return [-x for x in heap]"
   ]
  },
  {
   "cell_type": "code",
   "execution_count": 17,
   "metadata": {},
   "outputs": [
    {
     "data": {
      "text/plain": [
       "[2, 1]"
      ]
     },
     "execution_count": 17,
     "metadata": {},
     "output_type": "execute_result"
    }
   ],
   "source": [
    "arr = [3,2,1]\n",
    "k = 2\n",
    "getLeastNumbers(arr,k)"
   ]
  },
  {
   "cell_type": "markdown",
   "metadata": {},
   "source": [
    "### <mark>2. 用两个栈实现队列</mark>\n",
    "#### 用两个栈实现一个队列。队列的声明如下，\n",
    "#### 请实现它的两个函数 appendTail 和 deleteHead ，分别完成在队列尾部插入整数和在队列头部删除整数的功能。\n",
    "#### (若队列中没有元素，deleteHead 操作返回 -1 )\n"
   ]
  },
  {
   "cell_type": "markdown",
   "metadata": {},
   "source": [
    "#### 思路：\n",
    "#### 利用两个栈`stack1`, `stack2`\n",
    "#### 加入元素：直接往`stack2`中加\n",
    "#### 得到/删除队头元素：利用`stack1`, 将`stack2`中元素倒入`stack1`\n",
    " - 先判断`stack1`是否为空，如果不为空则取出/删除`stack1`的栈顶元素\n",
    " - 如果为空，将`stack2`中元素倒入`stack1`,再取出/删除`stack1`的栈顶元素"
   ]
  },
  {
   "cell_type": "code",
   "execution_count": null,
   "metadata": {},
   "outputs": [],
   "source": [
    "class CQueue:\n",
    "\n",
    "    def __init__(self):\n",
    "\n",
    "        self.stack1 = []\n",
    "        self.stack2 = []\n",
    "\n",
    "\n",
    "    def appendTail(self, value: int) -> None:\n",
    "        self.stack2.append(value)\n",
    "\n",
    "\n",
    "    def deleteHead(self) -> int:\n",
    "        \n",
    "        if len(self.stack1) > 0 :\n",
    "            return self.stack1.pop()\n",
    "        \n",
    "        while len(self.stack2) > 0:\n",
    "            self.stack1.append(self.stack2.pop())\n",
    "        \n",
    "        if len(self.stack1) == 0:\n",
    "            return -1 \n",
    "        \n",
    "        return self.stack1.pop()"
   ]
  },
  {
   "cell_type": "markdown",
   "metadata": {},
   "source": [
    "## Part III: 链表"
   ]
  },
  {
   "cell_type": "markdown",
   "metadata": {},
   "source": [
    "### <mark>1. 反转链表</mark>\n",
    "\n",
    "#### 定义一个函数，输入一个链表的头节点，反转该链表并输出反转后链表的头节点。\n",
    "\n"
   ]
  },
  {
   "cell_type": "markdown",
   "metadata": {},
   "source": [
    "#### 思路一：双指针\n",
    "-  定义两个指针：`pre` 和 `cur`, 局部反转之后两个指针都向前移动一个位置\n",
    "\n",
    "#### 思路二：递归\n",
    "-  终止条件室当前节点或下一个节点为`null`\n",
    "-  在函数内部，改变节点指向"
   ]
  },
  {
   "cell_type": "code",
   "execution_count": 14,
   "metadata": {},
   "outputs": [],
   "source": [
    "# Definition for singly-linked list.\n",
    "# class ListNode:\n",
    "#     def __init__(self, x):\n",
    "#         self.val = x\n",
    "#         self.next = None\n",
    "\n",
    "def reverseList(head):\n",
    "    \n",
    "    while not head or not head.next:\n",
    "        return head \n",
    "    \n",
    "    pre = None\n",
    "    cur = head\n",
    "    \n",
    "    while cur:\n",
    "        nex = cur.next\n",
    "        cur.next = pre \n",
    "        pre, cur = cur, nex \n",
    "        \n",
    "    return pre "
   ]
  },
  {
   "cell_type": "code",
   "execution_count": 15,
   "metadata": {},
   "outputs": [],
   "source": [
    "def reverseList(head):\n",
    "    \n",
    "    if not head or not head.next:\n",
    "        return head \n",
    "    \n",
    "    cur = self.reverseList(head.next)\n",
    "    head.next.next = head \n",
    "    head.next = None # 防止链表循环\n",
    "    \n",
    "    return cur"
   ]
  },
  {
   "cell_type": "markdown",
   "metadata": {},
   "source": [
    "### <mark>2. 合并两个排序的链表</mark>\n",
    "\n",
    "#### 输入两个递增排序的链表，合并这两个链表并使新链表中的节点仍然是递增排序的。"
   ]
  },
  {
   "cell_type": "markdown",
   "metadata": {},
   "source": [
    "#### 思路：双指针 — 用双指针`l1`、 `l2`遍历两个链表。\n",
    "-  引入伪头指针`dum`作为合并链表的伪头节点，将各节点添加至dum之后。\n",
    "-  `cur`指针，初始指向`dum`, 后通过比较两个list的值来update"
   ]
  },
  {
   "cell_type": "code",
   "execution_count": 18,
   "metadata": {},
   "outputs": [],
   "source": [
    "def mergeTwoLists(l1, l2):\n",
    "    \n",
    "    if not l1:\n",
    "        return l2\n",
    "    if not l2:\n",
    "        return l1\n",
    "    \n",
    "    cur = dum = ListNode(0)\n",
    "    \n",
    "    while l1 and l2:\n",
    "        if l1.val < l2.val:\n",
    "            cur.next = l1  # 节点，而不是节点的值\n",
    "            l1 = l1.next \n",
    "        else:\n",
    "            cur.next = l2\n",
    "            l2 = l2.next \n",
    "    \n",
    "    if l1:\n",
    "        cur.next = l1 \n",
    "    else:\n",
    "        cur.next = l2 \n",
    "    \n",
    "    return dum.next "
   ]
  },
  {
   "cell_type": "markdown",
   "metadata": {},
   "source": [
    "### <mark>3. 链表中倒数第k个节点</mark>\n",
    "\n",
    "#### 输入一个链表，输出该链表中倒数第k个节点。\n",
    "#### 为了符合大多数人的习惯，本题从1开始计数，即链表的尾节点是倒数第1个节点。\n",
    "#### 例如，一个链表有6个节点，从头节点开始，它们的值依次是1、2、3、4、5、6。这个链表的倒数第3个节点是值为4的节点。"
   ]
  },
  {
   "cell_type": "markdown",
   "metadata": {},
   "source": [
    "#### 思路：双指针法\n",
    "\n",
    "- 快指针：先走k步\n",
    "- 慢指针：指向head\n",
    "- 然后快慢指针同时前进，当快指针走到尾部的null节点时，慢指针指向倒数第k个节点"
   ]
  },
  {
   "cell_type": "code",
   "execution_count": null,
   "metadata": {},
   "outputs": [],
   "source": [
    "# Definition for singly-linked list.\n",
    "# class ListNode:\n",
    "#     def __init__(self, x):\n",
    "#         self.val = x\n",
    "#         self.next = None\n",
    "\n",
    "def getKthFromEnd(head, k):\n",
    "    \n",
    "    front, end = head, head \n",
    "    \n",
    "    for _ in range(k):\n",
    "        front = front.next \n",
    "    \n",
    "    while front:\n",
    "        front = front.next \n",
    "        end = end.next \n",
    "    \n",
    "    return end"
   ]
  },
  {
   "cell_type": "markdown",
   "metadata": {},
   "source": [
    "## Part IV: 树"
   ]
  },
  {
   "cell_type": "markdown",
   "metadata": {},
   "source": [
    "### <mark>1. 二叉搜索树的第k大节点</mark>\n",
    "\n",
    "#### 给定一棵二叉搜索树，请找出其中第k大的节点。"
   ]
  },
  {
   "cell_type": "markdown",
   "metadata": {},
   "source": [
    "#### 思路：中序遍历二叉树，得到的是一个不减的序列\n",
    "#### 二叉搜索树BST的性质：\n",
    " - 若任意节点的左子树不为空，则左子树上所有节点的值均小于根结点的值\n",
    " - 若任意节点的右子树不为空，则右子树上所有节点的值均大于等于根结点的值\n",
    " - 任意节点的左右子树也分别为二叉搜索树\n",
    "\n",
    "#### 利用递归，遍历二叉树\n",
    "\n",
    "#### 提前结束：\n",
    "- 递归遍历时计数，统计当前节点的序号\n",
    "- 递归到第k个节点时，直接返回，提前结束。"
   ]
  },
  {
   "cell_type": "code",
   "execution_count": 8,
   "metadata": {},
   "outputs": [],
   "source": [
    "# Definition for a binary tree node.\n",
    "# class TreeNode:\n",
    "#     def __init__(self, x):\n",
    "#         self.val = x\n",
    "#         self.left = None\n",
    "#         self.right = None\n",
    "\n",
    "\n",
    "## 没有提前结束\n",
    "\n",
    "def kthLargest(root, k):\n",
    "    \n",
    "    if not root:\n",
    "        return \n",
    "    \n",
    "    sequence = []\n",
    "    \n",
    "    traverse(root, sequence)\n",
    "    \n",
    "    return sequence[k-1]\n",
    "\n",
    "\n",
    "def traverse(root, res):\n",
    "    \n",
    "    if not root:\n",
    "        return \n",
    "    \n",
    "    self.traverse(root.right, res)\n",
    "    res.append(root.val)\n",
    "    self.traverse(root.left, res)"
   ]
  },
  {
   "cell_type": "code",
   "execution_count": 9,
   "metadata": {},
   "outputs": [],
   "source": [
    "## 提前结束\n",
    "\n",
    "def kthLargest(root, k):\n",
    "\n",
    "    def traverse(root):\n",
    "        if not root:\n",
    "            return \n",
    "        traverse(root.right)\n",
    "        if self.k == 0:\n",
    "            return \n",
    "        self.k -=1 \n",
    "        if self.k == 0:\n",
    "            self.res = root.val \n",
    "        traverse(root.left)\n",
    "\n",
    "    self.k = k \n",
    "\n",
    "    traverse(root)\n",
    "\n",
    "    return self.res"
   ]
  }
 ],
 "metadata": {
  "kernelspec": {
   "display_name": "Python 3",
   "language": "python",
   "name": "python3"
  },
  "language_info": {
   "codemirror_mode": {
    "name": "ipython",
    "version": 3
   },
   "file_extension": ".py",
   "mimetype": "text/x-python",
   "name": "python",
   "nbconvert_exporter": "python",
   "pygments_lexer": "ipython3",
   "version": "3.7.3"
  }
 },
 "nbformat": 4,
 "nbformat_minor": 2
}
