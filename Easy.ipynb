{
 "cells": [
  {
   "cell_type": "markdown",
   "metadata": {},
   "source": [
    "## Level: Easy"
   ]
  },
  {
   "cell_type": "markdown",
   "metadata": {},
   "source": [
    "#### 来源：力扣（LeetCode） 链接：https://leetcode-cn.com/problems/"
   ]
  },
  {
   "cell_type": "markdown",
   "metadata": {},
   "source": [
    "## Part I: 数组"
   ]
  },
  {
   "cell_type": "markdown",
   "metadata": {},
   "source": [
    "### <mark style = \"background-color:yellow\">1.  圆圈中最后剩下的数 —— 约瑟夫环</mark>\n",
    "#### 0,1...n-1这n个数字排成一个圆圈，从数字0开始，每次从这个圆圈里删除第m个数字。求出这个圆圈里剩下的最后一个数字。\n",
    "#### 例如，0、1、2、3、4这5个数字组成一个圆圈，从数字0开始每次删除第3个数字，则删除的前4个数字依次是2、0、4、1，因此最后剩下的数字是3。"
   ]
  },
  {
   "cell_type": "markdown",
   "metadata": {},
   "source": [
    "#### 思路： 递归\n",
    "\n",
    "#### $F(n,m):$ under (n,m) setting, the index of the last existing number (i.e., the left number here).\n",
    "\n",
    "#### I. For (n,m) setting, the first number we delete is the number with index $m\\%n $\n",
    "\n",
    " - for (5,3) setting, the first number we delete is the third one ($3%5 =3)$ with index 2 ($3-1=2$)\n",
    "\n",
    "#### II. Then the original circle becomes the a new one with length $n-1$. \n",
    "\n",
    "#### Suppose we know the index of the last existing number when the sequence length is $(n-1)$, which is $X = F(n-1,m)$\n",
    "\n",
    " - for (5,3) setting, $F(4,3) = 0$\n",
    "\n",
    "#### III. Then $F(n,m)$ should be the $X^{th}$ starting from $m\\%n$: $F(n,m) = [m\\%n + F(n-1,m)] \\%n$\n",
    "\n",
    " - for (5,3) setting, $F(5,3) = [3\\% 5 + F(4,3)] \\% 5 = 3$"
   ]
  },
  {
   "cell_type": "code",
   "execution_count": 1,
   "metadata": {},
   "outputs": [],
   "source": [
    "def lastRemaining(n, m):\n",
    "\n",
    "    f = 0 \n",
    "\n",
    "    for i in range(2, n+1):\n",
    "        f = (m % i + f) % i  \n",
    "\n",
    "    return f   "
   ]
  },
  {
   "cell_type": "code",
   "execution_count": 2,
   "metadata": {},
   "outputs": [
    {
     "data": {
      "text/plain": [
       "3"
      ]
     },
     "execution_count": 2,
     "metadata": {},
     "output_type": "execute_result"
    }
   ],
   "source": [
    "n, m = 5, 3\n",
    "lastRemaining(n,m)"
   ]
  },
  {
   "cell_type": "markdown",
   "metadata": {},
   "source": [
    "### <mark style = \"background-color:yellow\">2. 和为s的连续正数序列 </mark>\n",
    "\n",
    "#### 输入一个正整数 target ，输出所有和为 target 的连续正整数序列（至少含有两个数）。\n",
    "\n",
    "#### 序列内的数字由小到大排列，不同序列按照首个数字从小到大排列。\n",
    "\n"
   ]
  },
  {
   "cell_type": "markdown",
   "metadata": {},
   "source": [
    "#### 思路：数学题，连续数列求和\n",
    "\n",
    "#### Sum of k consecutive numbers: $x + (x+1) + ... + (x+k-1) = \\frac{(2x+k-1)k}{2} = T$\n",
    "\n",
    "#### Some constraints from question setting:\n",
    "\n",
    " - $x \\ge 1 \\Rightarrow 2x-1 \\ge 1 \\Rightarrow 2x-1+k > k \\Rightarrow (2x+k-1)k > k^2 \\Rightarrow k < \\sqrt{2T}$\n",
    " \n",
    " - $ k \\ge 2$\n",
    "\n",
    "#### Make sure that $2T$ can be seperated as $(2x+k-1)k$:\n",
    "\n",
    "- $2T$ is divisible by k\n",
    "\n",
    "- $\\frac{2T}{k} - k = 2x-1$ is an odd number."
   ]
  },
  {
   "cell_type": "code",
   "execution_count": 3,
   "metadata": {},
   "outputs": [],
   "source": [
    "import math\n",
    "\n",
    "def findContinuousSequence(target):\n",
    "\n",
    "\n",
    "    res = []\n",
    "\n",
    "    a = 2 * target \n",
    "    k = int(math.sqrt(a))\n",
    "\n",
    "    while k > 1:\n",
    "        if a % k == 0 and (a / k - k) % 2 == 1:\n",
    "            start = int((a / k - k + 1 ) / 2)\n",
    "            temp = [x for x in range(start, start + k)]\n",
    "            res.append(temp) \n",
    "        k -= 1 \n",
    "\n",
    "    return res"
   ]
  },
  {
   "cell_type": "code",
   "execution_count": 4,
   "metadata": {},
   "outputs": [
    {
     "data": {
      "text/plain": [
       "[[1, 2, 3, 4, 5], [4, 5, 6], [7, 8]]"
      ]
     },
     "execution_count": 4,
     "metadata": {},
     "output_type": "execute_result"
    }
   ],
   "source": [
    "target = 15\n",
    "findContinuousSequence(target)"
   ]
  },
  {
   "cell_type": "markdown",
   "metadata": {},
   "source": [
    "### <mark style = \"background-color:yellow\">3. 数组中重复的数字</mark>\n",
    "\n",
    "#### 在一个长度为 n 的数组 nums 里的所有数字都在 0～n-1 的范围内。\n",
    "#### 数组中某些数字是重复的，但不知道有几个数字重复了，也不知道每个数字重复了几次。请找出数组中`任意一个`重复的数字。\n"
   ]
  },
  {
   "cell_type": "markdown",
   "metadata": {},
   "source": [
    "#### 思路一： 哈希表 (需要使用额外空间)\n",
    "\n",
    "#### 思路二：下标定位法 (利用数组在0 ~ n-1的范围这个条件，不需要使用额外空间)\n",
    "\n",
    "#### Since all numbers in `nums` are in 0 ~ n-1, we can traverse the sequence and make `nums[i] = i` by using swapping. \n",
    "#### Then when we get into the number `x` at the second time, we must have `nums[x] = x`. So just return `x` under this circumstance. "
   ]
  },
  {
   "cell_type": "code",
   "execution_count": 5,
   "metadata": {},
   "outputs": [],
   "source": [
    "def findRepeatNumber(nums):\n",
    "    \n",
    "    hash = {}\n",
    "    \n",
    "    for num in nums:\n",
    "        if num not in hash:\n",
    "            hash[num] = 1 \n",
    "        else:\n",
    "            return num \n",
    "    \n",
    "    return -1"
   ]
  },
  {
   "cell_type": "code",
   "execution_count": 6,
   "metadata": {},
   "outputs": [
    {
     "data": {
      "text/plain": [
       "2"
      ]
     },
     "execution_count": 6,
     "metadata": {},
     "output_type": "execute_result"
    }
   ],
   "source": [
    "nums = [2, 3, 1, 0, 2, 5, 3]\n",
    "findRepeatNumber(nums)"
   ]
  },
  {
   "cell_type": "code",
   "execution_count": 12,
   "metadata": {},
   "outputs": [],
   "source": [
    "def findRepeatNumber(nums):\n",
    "    \n",
    "    i = 0\n",
    "    \n",
    "    while i < len(nums):\n",
    "        \n",
    "        if nums[i] == i:\n",
    "            i += 1 \n",
    "            continue\n",
    "        \n",
    "        if nums[nums[i]] == nums[i]:\n",
    "            return nums[i]\n",
    "        \n",
    "        nums[nums[i]], nums[i] = nums[i], nums[nums[i]]\n",
    "        ## Note: cannot be written as nums[i], nums[nums[i]] = nums[nums[i]], nums[i]\n",
    "    \n",
    "    return -1"
   ]
  },
  {
   "cell_type": "markdown",
   "metadata": {},
   "source": [
    "#### When swapping two numbers we cannot use `nums[i], nums[nums[i]] = nums[nums[i]], nums[i]` here, because:\n",
    "- In Python, `a,b = c,d` works by first saving tuple `(c,d)` and then assign c to a and d to b in order. \n",
    "- If we first change the value of `nums[i]`, then the element `nums[nums[i]]` will change too, which is not desired here. "
   ]
  },
  {
   "cell_type": "code",
   "execution_count": 13,
   "metadata": {},
   "outputs": [
    {
     "data": {
      "text/plain": [
       "2"
      ]
     },
     "execution_count": 13,
     "metadata": {},
     "output_type": "execute_result"
    }
   ],
   "source": [
    "nums = [2, 3, 1, 0, 2, 5, 3]\n",
    "findRepeatNumber(nums)"
   ]
  },
  {
   "cell_type": "markdown",
   "metadata": {},
   "source": [
    "### <mark style = \"background-color:yellow\">4. 和为s的两个数字</mark>\n",
    "\n",
    "#### 输入一个递增排序的数组和一个数字s，在数组中查找两个数，使得它们的和正好是s。\n",
    "#### 如果有多对数字的和等于s，则输出任意一对即可。"
   ]
  },
  {
   "cell_type": "markdown",
   "metadata": {},
   "source": [
    "#### 思路：双指针法 — 利用这个数组递增的性质。\n",
    "- #### `left`从最左开始，`right`从最右开始\n",
    "- #### 如果`nums[left]` + `nums[right]` > target: right -= 1 \n",
    "- #### 如果`nums[left]` + `nums[right]` < target: left += 1"
   ]
  },
  {
   "cell_type": "code",
   "execution_count": 19,
   "metadata": {},
   "outputs": [],
   "source": [
    "def twoSum(nums, target):\n",
    "    \n",
    "    left, right = 0, len(nums)-1\n",
    "    \n",
    "    while left < right:\n",
    "        s = nums[left] + nums[right]\n",
    "        if s == target:\n",
    "            return [nums[left], nums[right]]\n",
    "        if s > target:\n",
    "            right -= 1 \n",
    "        else:\n",
    "            left += 1 \n",
    "    \n",
    "    return None "
   ]
  },
  {
   "cell_type": "code",
   "execution_count": 20,
   "metadata": {},
   "outputs": [
    {
     "data": {
      "text/plain": [
       "[2, 7]"
      ]
     },
     "execution_count": 20,
     "metadata": {},
     "output_type": "execute_result"
    }
   ],
   "source": [
    "nums = [2,7,11,15]\n",
    "target = 9\n",
    "twoSum(nums,target)"
   ]
  },
  {
   "cell_type": "markdown",
   "metadata": {},
   "source": [
    "## Part II: 栈和队列"
   ]
  },
  {
   "cell_type": "markdown",
   "metadata": {},
   "source": [
    "### <mark style = \"background-color:yellow\">1. 最小的k个数</mark>\n",
    "#### 输入整数数组 `arr` ，找出其中最小的 `k` 个数。\n",
    "#### 例如，输入4、5、1、6、2、7、3、8这8个数字，则最小的4个数字是1、2、3、4。"
   ]
  },
  {
   "cell_type": "markdown",
   "metadata": {},
   "source": [
    "#### 思路一：排序，取出前k个元素\n",
    "#### 思路二：优先队列\n",
    "#### Use Max Heap. Add the element one at a time into a heap. When the length of the heap is `k`, pop the biggest element in the heap.  \n",
    "- `heapq` in Python is a Min Heap：heapq.headpop - pop and return the samllest item from the heap\n",
    "- change `num` into `-1*num` and then use `heapq` to maintain a max heap"
   ]
  },
  {
   "cell_type": "code",
   "execution_count": 16,
   "metadata": {},
   "outputs": [],
   "source": [
    "from heapq import heappush, heappushpop\n",
    "\n",
    "def getLeastNumbers(arr, k):\n",
    "    \n",
    "    heap = []\n",
    "    \n",
    "    for num in arr:\n",
    "        if len(heap) == k:\n",
    "            heappushpop(heap, -num)\n",
    "        else:\n",
    "            heappush(heap, -num)\n",
    "    \n",
    "    return [-x for x in heap]"
   ]
  },
  {
   "cell_type": "code",
   "execution_count": 17,
   "metadata": {},
   "outputs": [
    {
     "data": {
      "text/plain": [
       "[2, 1]"
      ]
     },
     "execution_count": 17,
     "metadata": {},
     "output_type": "execute_result"
    }
   ],
   "source": [
    "arr = [3,2,1]\n",
    "k = 2\n",
    "getLeastNumbers(arr,k)"
   ]
  },
  {
   "cell_type": "markdown",
   "metadata": {},
   "source": [
    "### <mark style = \"background-color:yellow\">2. 用两个栈实现队列</mark>\n",
    "#### 用两个栈实现一个队列。队列的声明如下，\n",
    "#### 请实现它的两个函数 appendTail 和 deleteHead ，分别完成在队列尾部插入整数和在队列头部删除整数的功能。\n",
    "#### (若队列中没有元素，deleteHead 操作返回 -1 )\n"
   ]
  },
  {
   "cell_type": "markdown",
   "metadata": {},
   "source": [
    "#### 思路：\n",
    "#### 利用两个栈`stack1`, `stack2`\n",
    "#### 加入元素：直接往`stack2`中加\n",
    "#### 得到/删除队头元素：利用`stack1`, 将`stack2`中元素倒入`stack1`\n",
    " - 先判断`stack1`是否为空，如果不为空则取出/删除`stack1`的栈顶元素\n",
    " - 如果为空，将`stack2`中元素倒入`stack1`,再取出/删除`stack1`的栈顶元素"
   ]
  },
  {
   "cell_type": "code",
   "execution_count": null,
   "metadata": {},
   "outputs": [],
   "source": [
    "class CQueue:\n",
    "\n",
    "    def __init__(self):\n",
    "\n",
    "        self.stack1 = []\n",
    "        self.stack2 = []\n",
    "\n",
    "\n",
    "    def appendTail(self, value: int) -> None:\n",
    "        self.stack2.append(value)\n",
    "\n",
    "\n",
    "    def deleteHead(self) -> int:\n",
    "        \n",
    "        if len(self.stack1) > 0 :\n",
    "            return self.stack1.pop()\n",
    "        \n",
    "        while len(self.stack2) > 0:\n",
    "            self.stack1.append(self.stack2.pop())\n",
    "        \n",
    "        if len(self.stack1) == 0:\n",
    "            return -1 \n",
    "        \n",
    "        return self.stack1.pop()"
   ]
  },
  {
   "cell_type": "markdown",
   "metadata": {},
   "source": [
    "## Part III: 链表"
   ]
  },
  {
   "cell_type": "markdown",
   "metadata": {},
   "source": [
    "### <mark style = \"background-color:yellow\">1. 反转链表</mark>\n",
    "\n",
    "#### 定义一个函数，输入一个链表的头节点，反转该链表并输出反转后链表的头节点。\n",
    "\n"
   ]
  },
  {
   "cell_type": "markdown",
   "metadata": {},
   "source": [
    "#### 思路一：双指针\n",
    "- #### 定义两个指针：`pre` 和 `cur`, 局部反转之后两个指针都向前移动一个位置\n",
    "\n",
    "#### 思路二：递归\n",
    "- #### 终止条件室当前节点或下一个节点为`null`\n",
    "- #### 在函数内部，改变节点指向"
   ]
  },
  {
   "cell_type": "code",
   "execution_count": 14,
   "metadata": {},
   "outputs": [],
   "source": [
    "# Definition for singly-linked list.\n",
    "# class ListNode:\n",
    "#     def __init__(self, x):\n",
    "#         self.val = x\n",
    "#         self.next = None\n",
    "\n",
    "def reverseList(head):\n",
    "    \n",
    "    while not head or not head.next:\n",
    "        return head \n",
    "    \n",
    "    pre = None\n",
    "    cur = head\n",
    "    \n",
    "    while cur:\n",
    "        nex = cur.next\n",
    "        cur.next = pre \n",
    "        pre, cur = cur, nex \n",
    "        \n",
    "    return pre "
   ]
  },
  {
   "cell_type": "code",
   "execution_count": 15,
   "metadata": {},
   "outputs": [],
   "source": [
    "def reverseList(head):\n",
    "    \n",
    "    if not head or not head.next:\n",
    "        return head \n",
    "    \n",
    "    cur = self.reverseList(head.next)\n",
    "    head.next.next = head \n",
    "    head.next = None # 防止链表循环\n",
    "    \n",
    "    return cur"
   ]
  },
  {
   "cell_type": "markdown",
   "metadata": {},
   "source": [
    "### <mark style = \"background-color:yellow\">2. 合并两个排序的链表</mark>\n",
    "\n",
    "#### 输入两个递增排序的链表，合并这两个链表并使新链表中的节点仍然是递增排序的。"
   ]
  },
  {
   "cell_type": "markdown",
   "metadata": {},
   "source": [
    "#### 思路：双指针 — 用双指针`l1`、 `l2`遍历两个链表。\n",
    "- #### 引入伪头指针`dum`作为合并链表的伪头节点，将各节点添加至dum之后。\n",
    "- #### `cur`指针，初始指向`dum`, 后通过比较两个list的值来update"
   ]
  },
  {
   "cell_type": "code",
   "execution_count": 18,
   "metadata": {},
   "outputs": [],
   "source": [
    "def mergeTwoLists(l1, l2):\n",
    "    \n",
    "    if not l1:\n",
    "        return l2\n",
    "    if not l2:\n",
    "        return l1\n",
    "    \n",
    "    cur = dum = ListNode(0)\n",
    "    \n",
    "    while l1 and l2:\n",
    "        if l1.val < l2.val:\n",
    "            cur.next = l1  # 节点，而不是节点的值\n",
    "            l1 = l1.next \n",
    "        else:\n",
    "            cur.next = l2\n",
    "            l2 = l2.next \n",
    "    \n",
    "    if l1:\n",
    "        cur.next = l1 \n",
    "    else:\n",
    "        cur.next = l2 \n",
    "    \n",
    "    return dum.next "
   ]
  },
  {
   "cell_type": "markdown",
   "metadata": {},
   "source": [
    "## Part IV: 树"
   ]
  },
  {
   "cell_type": "code",
   "execution_count": null,
   "metadata": {},
   "outputs": [],
   "source": []
  }
 ],
 "metadata": {
  "kernelspec": {
   "display_name": "Python 3",
   "language": "python",
   "name": "python3"
  },
  "language_info": {
   "codemirror_mode": {
    "name": "ipython",
    "version": 3
   },
   "file_extension": ".py",
   "mimetype": "text/x-python",
   "name": "python",
   "nbconvert_exporter": "python",
   "pygments_lexer": "ipython3",
   "version": "3.7.3"
  }
 },
 "nbformat": 4,
 "nbformat_minor": 2
}
